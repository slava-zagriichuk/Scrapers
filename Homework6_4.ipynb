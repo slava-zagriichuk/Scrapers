{
 "cells": [
  {
   "cell_type": "code",
   "execution_count": 1,
   "id": "ec5b31e8",
   "metadata": {},
   "outputs": [],
   "source": [
    "import csv\n",
    "import json\n",
    "import html\n",
    "import time\n",
    "\n",
    "import requests\n",
    "import pandas as pd\n",
    "from bs4 import BeautifulSoup\n",
    "from os import mkdir"
   ]
  },
  {
   "cell_type": "markdown",
   "id": "82c08afa",
   "metadata": {},
   "source": [
    "## 4. IMDB Gender images:\n",
    "\n",
    "Suppose we want to build a data set for a Computer vision task that involves gender images. \n",
    "Your tasks are the following:\n",
    "- Collect 10k male/female images from:\n",
    "https://www.imdb.com\n",
    "- Make sure to render the whole page using selenium and then use BeautifulSoup  to scrape the images\n",
    "- Create a folder for male/female\n",
    "- Each image will be named after the person in the picture\n"
   ]
  },
  {
   "cell_type": "code",
   "execution_count": 26,
   "id": "e0169b72",
   "metadata": {},
   "outputs": [],
   "source": [
    "def process_page_fullscale_imdb(gender, start=1):\n",
    "    url = 'https://www.imdb.com/search/name/?gender=' + gender + '&count=100&start=' + str(start)\n",
    "    headers = {'User-Agent': 'Mozilla/5.0 (Macintosh; Intel Mac OS X 10_10_1) AppleWebKit/537.36 (KHTML, like Gecko) Chrome/39.0.2171.95 Safari/537.36'}\n",
    "    try:\n",
    "        response = requests.get(url, headers=headers, timeout=5)\n",
    "    except:       \n",
    "        return {'failed':str(start)}        \n",
    "        \n",
    "    soup_main = BeautifulSoup(response.content, 'html.parser')\n",
    "    \n",
    "    list_of_links = []\n",
    "    for item in soup_main.find_all('div', class_='lister-item mode-detail'):\n",
    "        list_of_links.append(item.find('a')['href'])\n",
    "        \n",
    "    dict_actors = {}\n",
    "    dict_errors = {}\n",
    "    for link in list_of_links:\n",
    "        url = 'https://www.imdb.com' + link\n",
    "        try:\n",
    "            response = requests.get(url, headers=headers, timeout=5)\n",
    "            soup_actor = BeautifulSoup(response.content, 'html.parser')\n",
    "            link_final = soup_actor.find('a', class_='ipc-lockup-overlay ipc-focusable')['href']\n",
    "            try:\n",
    "                url = 'https://www.imdb.com' + link_final\n",
    "                response = requests.get(url, headers=headers, timeout=5)\n",
    "                soup_image = BeautifulSoup(response.content, 'html.parser')\n",
    "                link_image = soup_image.find('div', class_='sc-7c0a9e7c-2 kEDMKk').find('img')['src']\n",
    "                name = soup_image.title.contents[0]\n",
    "                dict_actors[name] = link_image\n",
    "            except:\n",
    "                dict_errors[link] = 'error'\n",
    "        except:\n",
    "            dict_errors[link] = 'error'\n",
    "        \n",
    "        print(name[0] if name else 'error', end=',')\n",
    "    \n",
    "    return {'actors':dict_actors, 'errors':dict_errors}\n",
    "\n",
    "\n",
    "def process_page_thumbs_imdb(gender, start):\n",
    "    url = 'https://www.imdb.com/search/name/?gender=' + gender + '&count=100&start=' + str(start)\n",
    "    headers = {'User-Agent': 'Mozilla/5.0 (Macintosh; Intel Mac OS X 10_10_1) AppleWebKit/537.36 (KHTML, like Gecko) Chrome/39.0.2171.95 Safari/537.36'}\n",
    "    \n",
    "    dict_actors = {}\n",
    "    list_errors = []\n",
    "    try:\n",
    "        response = requests.get(url, headers=headers, timeout=5)\n",
    "        soup = BeautifulSoup(response.content, 'html.parser')        \n",
    "        for item in soup.find_all('div', class_='lister-item-image'):\n",
    "            actor = item.find('img')['alt']\n",
    "            link_thumb = item.find('img')['src']\n",
    "            dict_actors[actor] = link_thumb\n",
    "    except:       \n",
    "        list_errors.append(start)     \n",
    "    \n",
    "    return dict_actors, list_errors\n",
    "    "
   ]
  },
  {
   "cell_type": "code",
   "execution_count": 30,
   "id": "8d6c38fe",
   "metadata": {
    "scrolled": true
   },
   "outputs": [
    {
     "name": "stdout",
     "output_type": "stream",
     "text": [
      "male: from 1 to 100 has been processed\n",
      "male: from 101 to 200 has been processed\n",
      "male: from 201 to 300 has been processed\n",
      "male: from 301 to 400 has been processed\n",
      "male: from 401 to 500 has been processed\n",
      "male: from 501 to 600 has been processed\n",
      "male: from 601 to 700 has been processed\n",
      "male: from 701 to 800 has been processed\n",
      "male: from 801 to 900 has been processed\n",
      "male: from 901 to 1000 has been processed\n",
      "male: from 1001 to 1100 has been processed\n",
      "male: from 1101 to 1200 has been processed\n",
      "male: from 1201 to 1300 has been processed\n",
      "male: from 1301 to 1400 has been processed\n",
      "male: from 1401 to 1500 has been processed\n",
      "male: from 1501 to 1600 has been processed\n",
      "male: from 1601 to 1700 has been processed\n",
      "male: from 1701 to 1800 has been processed\n",
      "male: from 1801 to 1900 has been processed\n",
      "male: from 1901 to 2000 has been processed\n",
      "male: from 2001 to 2100 has been processed\n",
      "male: from 2101 to 2200 has been processed\n",
      "male: from 2201 to 2300 has been processed\n",
      "male: from 2301 to 2400 has been processed\n",
      "male: from 2401 to 2500 has been processed\n",
      "male: from 2501 to 2600 has been processed\n",
      "male: from 2601 to 2700 has been processed\n",
      "male: from 2701 to 2800 has been processed\n",
      "male: from 2801 to 2900 has been processed\n",
      "male: from 2901 to 3000 has been processed\n",
      "male: from 3001 to 3100 has been processed\n",
      "male: from 3101 to 3200 has been processed\n",
      "male: from 3201 to 3300 has been processed\n",
      "male: from 3301 to 3400 has been processed\n",
      "male: from 3401 to 3500 has been processed\n",
      "male: from 3501 to 3600 has been processed\n",
      "male: from 3601 to 3700 has been processed\n",
      "male: from 3701 to 3800 has been processed\n",
      "male: from 3801 to 3900 has been processed\n",
      "male: from 3901 to 4000 has been processed\n",
      "male: from 4001 to 4100 has been processed\n",
      "male: from 4101 to 4200 has been processed\n",
      "male: from 4201 to 4300 has been processed\n",
      "male: from 4301 to 4400 has been processed\n",
      "male: from 4401 to 4500 has been processed\n",
      "male: from 4501 to 4600 has been processed\n",
      "male: from 4601 to 4700 has been processed\n",
      "male: from 4701 to 4800 has been processed\n",
      "male: from 4801 to 4900 has been processed\n",
      "male: from 4901 to 5000 has been processed\n",
      "male: from 5001 to 5100 has been processed\n",
      "male: from 5101 to 5200 has been processed\n",
      "male: from 5201 to 5300 has been processed\n",
      "male: from 5301 to 5400 has been processed\n",
      "male: from 5401 to 5500 has been processed\n",
      "male: from 5501 to 5600 has been processed\n",
      "male: from 5601 to 5700 has been processed\n",
      "male: from 5701 to 5800 has been processed\n",
      "male: from 5801 to 5900 has been processed\n",
      "male: from 5901 to 6000 has been processed\n",
      "male: from 6001 to 6100 has been processed\n",
      "male: from 6101 to 6200 has been processed\n",
      "male: from 6201 to 6300 has been processed\n",
      "male: from 6301 to 6400 has been processed\n",
      "male: from 6401 to 6500 has been processed\n",
      "male: from 6501 to 6600 has been processed\n",
      "male: from 6601 to 6700 has been processed\n",
      "male: from 6701 to 6800 has been processed\n",
      "male: from 6801 to 6900 has been processed\n",
      "male: from 6901 to 7000 has been processed\n",
      "male: from 7001 to 7100 has been processed\n",
      "male: from 7101 to 7200 has been processed\n",
      "male: from 7201 to 7300 has been processed\n",
      "male: from 7301 to 7400 has been processed\n",
      "male: from 7401 to 7500 has been processed\n",
      "male: from 7501 to 7600 has been processed\n",
      "male: from 7601 to 7700 has been processed\n",
      "male: from 7701 to 7800 has been processed\n",
      "male: from 7801 to 7900 has been processed\n",
      "male: from 7901 to 8000 has been processed\n",
      "male: from 8001 to 8100 has been processed\n",
      "male: from 8101 to 8200 has been processed\n",
      "male: from 8201 to 8300 has been processed\n",
      "male: from 8301 to 8400 has been processed\n",
      "male: from 8401 to 8500 has been processed\n",
      "male: from 8501 to 8600 has been processed\n",
      "male: from 8601 to 8700 has been processed\n",
      "male: from 8701 to 8800 has been processed\n",
      "male: from 8801 to 8900 has been processed\n",
      "male: from 8901 to 9000 has been processed\n",
      "male: from 9001 to 9100 has been processed\n",
      "male: from 9101 to 9200 has been processed\n",
      "male: from 9201 to 9300 has been processed\n",
      "male: from 9301 to 9400 has been processed\n",
      "male: from 9401 to 9500 has been processed\n",
      "male: from 9501 to 9600 has been processed\n",
      "male: from 9601 to 9700 has been processed\n",
      "male: from 9701 to 9800 has been processed\n",
      "male: from 9801 to 9900 has been processed\n",
      "male: from 9901 to 10000 has been processed\n",
      "female: from 1 to 100 has been processed\n",
      "female: from 101 to 200 has been processed\n",
      "female: from 201 to 300 has been processed\n",
      "female: from 301 to 400 has been processed\n",
      "female: from 401 to 500 has been processed\n",
      "female: from 501 to 600 has been processed\n",
      "female: from 601 to 700 has been processed\n",
      "female: from 701 to 800 has been processed\n",
      "female: from 801 to 900 has been processed\n",
      "female: from 901 to 1000 has been processed\n",
      "female: from 1001 to 1100 has been processed\n",
      "female: from 1101 to 1200 has been processed\n",
      "female: from 1201 to 1300 has been processed\n",
      "female: from 1301 to 1400 has been processed\n",
      "female: from 1401 to 1500 has been processed\n",
      "female: from 1501 to 1600 has been processed\n",
      "female: from 1601 to 1700 has been processed\n",
      "female: from 1701 to 1800 has been processed\n",
      "female: from 1801 to 1900 has been processed\n",
      "female: from 1901 to 2000 has been processed\n",
      "female: from 2001 to 2100 has been processed\n",
      "female: from 2101 to 2200 has been processed\n",
      "female: from 2201 to 2300 has been processed\n",
      "female: from 2301 to 2400 has been processed\n",
      "female: from 2401 to 2500 has been processed\n",
      "female: from 2501 to 2600 has been processed\n",
      "female: from 2601 to 2700 has been processed\n",
      "female: from 2701 to 2800 has been processed\n",
      "female: from 2801 to 2900 has been processed\n",
      "female: from 2901 to 3000 has been processed\n",
      "female: from 3001 to 3100 has been processed\n",
      "female: from 3101 to 3200 has been processed\n",
      "female: from 3201 to 3300 has been processed\n",
      "female: from 3301 to 3400 has been processed\n",
      "female: from 3401 to 3500 has been processed\n",
      "female: from 3501 to 3600 has been processed\n",
      "female: from 3601 to 3700 has been processed\n",
      "female: from 3701 to 3800 has been processed\n",
      "female: from 3801 to 3900 has been processed\n",
      "female: from 3901 to 4000 has been processed\n",
      "female: from 4001 to 4100 has been processed\n",
      "female: from 4101 to 4200 has been processed\n",
      "female: from 4201 to 4300 has been processed\n",
      "female: from 4301 to 4400 has been processed\n",
      "female: from 4401 to 4500 has been processed\n",
      "female: from 4501 to 4600 has been processed\n",
      "female: from 4601 to 4700 has been processed\n",
      "female: from 4701 to 4800 has been processed\n",
      "female: from 4801 to 4900 has been processed\n",
      "female: from 4901 to 5000 has been processed\n",
      "female: from 5001 to 5100 has been processed\n",
      "female: from 5101 to 5200 has been processed\n",
      "female: from 5201 to 5300 has been processed\n",
      "female: from 5301 to 5400 has been processed\n",
      "female: from 5401 to 5500 has been processed\n",
      "female: from 5501 to 5600 has been processed\n",
      "female: from 5601 to 5700 has been processed\n",
      "female: from 5701 to 5800 has been processed\n",
      "female: from 5801 to 5900 has been processed\n",
      "female: from 5901 to 6000 has been processed\n",
      "female: from 6001 to 6100 has been processed\n",
      "female: from 6101 to 6200 has been processed\n",
      "female: from 6201 to 6300 has been processed\n",
      "female: from 6301 to 6400 has been processed\n",
      "female: from 6401 to 6500 has been processed\n",
      "female: from 6501 to 6600 has been processed\n",
      "female: from 6601 to 6700 has been processed\n",
      "female: from 6701 to 6800 has been processed\n",
      "female: from 6801 to 6900 has been processed\n",
      "female: from 6901 to 7000 has been processed\n",
      "female: from 7001 to 7100 has been processed\n",
      "female: from 7101 to 7200 has been processed\n",
      "female: from 7201 to 7300 has been processed\n",
      "female: from 7301 to 7400 has been processed\n",
      "female: from 7401 to 7500 has been processed\n",
      "female: from 7501 to 7600 has been processed\n",
      "female: from 7601 to 7700 has been processed\n",
      "female: from 7701 to 7800 has been processed\n",
      "female: from 7801 to 7900 has been processed\n",
      "female: from 7901 to 8000 has been processed\n",
      "female: from 8001 to 8100 has been processed\n",
      "female: from 8101 to 8200 has been processed\n",
      "female: from 8201 to 8300 has been processed\n",
      "female: from 8301 to 8400 has been processed\n",
      "female: from 8401 to 8500 has been processed\n",
      "female: from 8501 to 8600 has been processed\n",
      "female: from 8601 to 8700 has been processed\n",
      "female: from 8701 to 8800 has been processed\n"
     ]
    },
    {
     "name": "stdout",
     "output_type": "stream",
     "text": [
      "female: from 8801 to 8900 has been processed\n",
      "female: from 8901 to 9000 has been processed\n",
      "female: from 9001 to 9100 has been processed\n",
      "female: from 9101 to 9200 has been processed\n",
      "female: from 9201 to 9300 has been processed\n",
      "female: from 9301 to 9400 has been processed\n",
      "female: from 9401 to 9500 has been processed\n",
      "female: from 9501 to 9600 has been processed\n",
      "female: from 9601 to 9700 has been processed\n",
      "female: from 9701 to 9800 has been processed\n",
      "female: from 9801 to 9900 has been processed\n",
      "female: from 9901 to 10000 has been processed\n"
     ]
    }
   ],
   "source": [
    "dict_imdb_links = {'male':{}, 'female':{}}\n",
    "dict_errors = {'male':[], 'female':[]}\n",
    "\n",
    "for i in range(1, 10001, 100):\n",
    "    actors, errors = process_page_thumbs_imdb(gender='male', start=i)\n",
    "    dict_imdb_links['male'].update(actors)\n",
    "    dict_errors['male'].extend(errors)\n",
    "    print('male: from {} to {} has been processed'.format(i, i + 99))\n",
    "\n",
    "for i in range(1, 10001, 100):\n",
    "    actors, errors = process_page_thumbs_imdb(gender='female', start=i)\n",
    "    dict_imdb_links['female'].update(actors)\n",
    "    dict_errors['female'].extend(errors)\n",
    "    print('female: from {} to {} has been processed'.format(i, i + 99))\n"
   ]
  },
  {
   "cell_type": "code",
   "execution_count": 34,
   "id": "c200bb3b",
   "metadata": {},
   "outputs": [
    {
     "data": {
      "text/plain": [
       "9991"
      ]
     },
     "execution_count": 34,
     "metadata": {},
     "output_type": "execute_result"
    }
   ],
   "source": [
    "len(dict_imdb_links['male'])"
   ]
  },
  {
   "cell_type": "code",
   "execution_count": 32,
   "id": "a7849778",
   "metadata": {},
   "outputs": [
    {
     "data": {
      "text/plain": [
       "{'male': [4901, 5101], 'female': []}"
      ]
     },
     "execution_count": 32,
     "metadata": {},
     "output_type": "execute_result"
    }
   ],
   "source": [
    "dict_errors"
   ]
  },
  {
   "cell_type": "code",
   "execution_count": 36,
   "id": "671d3336",
   "metadata": {},
   "outputs": [
    {
     "name": "stdout",
     "output_type": "stream",
     "text": [
      "male: from 4901 to 5000 has been processed\n",
      "male: from 5101 to 5200 has been processed\n"
     ]
    }
   ],
   "source": [
    "for i in dict_errors['male']:\n",
    "    actors, errors = process_page_thumbs_imdb(gender='male', start=i)\n",
    "    dict_imdb_links['male'].update(actors)\n",
    "    dict_errors['male'].extend(errors)\n",
    "    print('male: from {} to {} has been processed'.format(i, i + 99))"
   ]
  },
  {
   "cell_type": "code",
   "execution_count": 39,
   "id": "a81eecf1",
   "metadata": {},
   "outputs": [
    {
     "name": "stdout",
     "output_type": "stream",
     "text": [
      "9977\n",
      "9991\n"
     ]
    }
   ],
   "source": [
    "print(len(dict_imdb_links['male']))\n",
    "print(len(dict_imdb_links['female']))\n"
   ]
  },
  {
   "cell_type": "code",
   "execution_count": 40,
   "id": "2c9dbd29",
   "metadata": {},
   "outputs": [
    {
     "name": "stdout",
     "output_type": "stream",
     "text": [
      "assignment4_IMDB_thumbs.json is written succesfully!\n"
     ]
    }
   ],
   "source": [
    "# Writing the json file:\n",
    "\n",
    "file_json = 'assignment4_IMDB_thumbs.json'\n",
    "with open(file_json, \"w\") as outfile:\n",
    "    json.dump(dict_imdb_links, outfile)\n",
    "    print(file_json, 'is written succesfully!')"
   ]
  },
  {
   "cell_type": "code",
   "execution_count": 44,
   "id": "5fecf365",
   "metadata": {},
   "outputs": [],
   "source": [
    "mkdir('imdb')\n",
    "mkdir('imdb/male')\n",
    "mkdir('imdb/female')"
   ]
  },
  {
   "cell_type": "code",
   "execution_count": 49,
   "id": "39fbbc4b",
   "metadata": {
    "scrolled": true
   },
   "outputs": [
    {
     "name": "stdout",
     "output_type": "stream",
     "text": [
      "J,R,C,R,P,A,T,N,A,N,J,W,G,C,H,N,W,C,K,D,K,P,T,T,B,A,C,S,K,C,J,J,B,P,S,J,B,D,A,R,A,N,G,C,L,S,J,J,G,J,T,W,K,D,C,A,N,H,M,R,V,J,A,C,Y,J,C,J,B,T,D,B,J,N,B,M,B,C,M,C,Q,B,C,S,M,A,R,S,M,C,B,J,J,R,K,B,A,R,A,G,A,R,T,J,L,P,A,T,P,T,A,J,A,A,R,M,J,S,S,R,C,J,R,L,M,R,K,T,M,A,J,D,D,M,A,B,J,A,D,T,M,J,J,F,I,M,M,B,S,J,W,M,S,B,M,R,R,S,E,E,M,V,B,H,D,G,J,L,G,T,J,D,C,J,T,S,R,M,M,J,Z,N,B,M,E,K,J,T,J,J,D,R,O,R,E,J,D,J,M,M,H,T,M,R,R,J,W,S,B,J,R,E,J,J,O,K,L,C,M,S,J,R,C,P,W,I,S,V,S,G,C,J,S,T,D,C,J,J,D,P,E,J,R,I,R,S,D,G,V,J,A,J,J,L,L,A,H,H,H,D,K,N,S,S,J,J,J,B,M,J,W,M,J,D,F,T,A,S,L,D,C,A,B,M,M,N,C,J,B,N,S,J,J,J,K,B,J,Z,E,M,J,M,S,H,M,J,A,J,M,S,D,T,R,E,M,D,D,A,L,W,P,W,A,J,B,J,S,L,J,M,P,E,D,J,K,P,B,S,M,T,B,A,N,B,E,W,B,W,J,B,A,C,J,E,A,S,S,T,A,J,R,S,J,K,R,P,M,P,D,D,P,I,A,Z,S,J,M,J,J,R,N,V,D,J,J,K,J,E,M,D,P,L,N,T,R,R,M,G,L,M,J,W,M,M,J,S,P,I,K,G,O,B,D,W,S,G,F,A,P,J,W,P,T,O,A,B,A,T,H,H,E,F,J,G,N,M,F,G,S,B,J,R,P,J,D,R,C,D,J,J,H,J,K,A,G,C,P,H,C,T,J,M,S,T,J,T,T,J,P,G,N,D,R,J,D,A,H,G,B,T,C,B,A,J,C,J,P,G,A,C,T,B,T,A,C,L,B,J,H,S,R,L,J,S,J,J,J,D,C,C,K,J,W,M,G,A,L,R,R,D,J,M,K,H,J,F,S,J,P,I,S,A,S,T,R,B,N,N,C,G,B,B,S,J,A,N,B,S,T,M,B,T,R,J,R,M,J,R,T,F,A,T,J,M,D,J,P,C,J,M,S,D,C,D,L,B,G,T,K,M,J,E,D,T,Z,M,P,B,M,K,G,D,J,C,T,P,S,C,S,S,D,M,J,D,B,D,B,J,R,S,K,S,T,W,R,U,E,B,M,D,S,E,L,E,C,S,T,H,L,J,P,T,B,S,M,D,M,F,S,J,T,M,S,A,J,D,M,J,T,J,J,C,A,J,A,J,R,W,T,P,J,B,I,J,A,T,T,A,P,P,E,M,J,K,T,M,C,D,M,M,J,S,C,D,M,S,A,M,Z,I,W,J,R,J,T,R,A,L,B,A,M,W,E,L,J,S,C,M,M,D,T,S,P,J,M,M,F,K,E,S,J,E,A,R,J,J,N,E,N,C,J,K,T,B,D,M,A,A,W,K,P,D,D,D,K,K,A,A,M,P,D,E,V,B,J,J,A,D,T,T,L,A,D,J,J,C,G,M,D,R,D,C,A,C,S,R,E,N,M,T,F,E,T,B,M,R,J,C,D,W,J,G,C,J,H,B,J,A,D,D,H,B,J,B,C,G,D,A,B,M,C,J,P,B,M,T,C,T,R,J,J,N,J,D,J,C,R,P,R,V,D,S,T,G,E,H,A,R,J,L,J,B,M,P,C,D,D,M,S,K,B,B,D,C,M,E,S,M,S,G,D,Ç,D,T,T,Y,T,J,C,T,R,V,K,J,C,M,C,Z,B,J,P,J,G,S,O,A,F,C,R,D,B,D,H,N,D,A,M,L,F,J,D,J,M,D,C,C,H,S,A,O,J,J,M,A,D,J,T,J,D,K,D,L,A,S,D,R,D,B,G,J,J,T,R,J,E,T,J,D,J,M,I,C,J,H,T,K,B,T,L,M,D,D,K,E,M,K,J,S,L,A,P,J,R,J,P,P,F,D,L,P,J,L,B,D,J,J,C,B,S,B,D,T,B,R,C,R,C,L,J,T,P,W,L,J,A,M,J,J,D,R,N,B,B,S,J,P,P,S,B,J,E,S,A,A,S,B,G,J,A,D,V,E,K,D,J,M,C,S,C,S,K,M,R,M,J,R,A,J,J,A,M,K,S,A,J,A,J,C,J,P,V,J,L,T,F,T,M,P,J,W,G,I,M,J,T,H,M,S,W,E,S,T,D,L,T,S,T,J,T,J,S,O,B,A,R,H,K,M,P,T,D,A,C,P,B,J,M,C,M,M,P,R,J,T,C,S,S,E,B,H,B,N,R,N,O,R,R,J,L,R,Z,R,M,O,R,C,M,A,R,J,A,S,D,K,T,C,G,L,H,L,P,B,B,M,G,T,A,T,P,R,E,W,J,M,R,R,D,L,D,E,T,R,B,S,A,P,T,M,P,M,J,R,J,P,T,C,B,R,R,D,J,M,J,M,L,R,J,P,J,J,S,A,J,R,D,M,N,H,T,O,K,M,D,A,S,M,M,M,L,P,D,T,C,J,R,D,A,J,C,D,E,J,M,M,D,R,T,J,C,A,C,W,R,D,E,M,D,M,R,J,D,S,B,R,M,J,S,R,R,J,J,B,S,W,J,J,R,C,G,E,J,S,T,S,M,M,M,P,W,J,P,J,E,P,T,H,A,J,T,M,J,T,T,B,J,M,K,D,L,R,L,S,T,E,O,M,E,D,C,P,S,D,D,T,D,J,A,A,R,W,D,B,D,C,S,R,G,K,D,T,R,B,F,F,I,J,C,D,H,T,P,A,K,S,T,J,J,J,S,D,R,J,C,I,C,D,R,S,K,T,B,C,H,R,P,F,A,R,D,S,Z,A,G,S,B,Y,W,C,R,J,B,J,K,H,R,C,P,E,B,R,P,J,X,E,Z,J,M,D,H,W,J,W,D,S,J,D,C,R,M,C,C,A,D,F,R,D,C,L,M,O,S,J,A,M,M,L,T,A,B,F,J,J,C,S,M,J,J,B,G,K,T,E,D,S,C,C,M,A,D,A,D,B,S,K,E,L,W,B,M,M,C,E,R,J,I,J,M,M,A,C,G,S,E,B,J,M,J,P,H,K,R,R,F,B,M,V,G,J,K,K,D,N,J,B,D,C,J,M,S,C,C,T,R,E,J,C,J,J,G,P,C,A,F,E,R,A,O,L,R,J,J,W,H,S,J,M,W,J,S,S,M,J,M,N,T,G,C,T,C,G,J,R,G,A,J,M,F,K,D,H,R,N,T,M,C,J,A,Y,A,A,D,G,C,T,S,C,M,A,C,D,J,J,R,J,A,J,D,D,C,M,A,R,L,B,R,D,M,R,D,J,K,D,L,G,N,J,J,R,S,J,P,J,T,J,Y,E,R,A,J,G,C,J,B,J,A,I,B,R,J,W,P,G,C,S,A,D,T,J,C,N,T,T,M,P,J,G,J,R,J,M,N,J,G,C,E,Z,J,S,A,R,J,J,S,L,I,R,J,J,M,L,P,M,V,I,J,F,S,L,M,C,L,D,J,J,B,B,H,N,C,P,R,M,T,R,A,A,P,S,B,W,R,J,S,D,F,E,P,W,A,D,K,E,M,A,C,S,D,M,B,R,C,M,D,P,T,J,T,J,C,J,T,R,L,W,B,V,D,R,F,J,A,J,J,R,T,F,M,N,R,T,J,S,P,N,A,M,J,J,A,J,E,J,W,K,S,L,W,J,R,N,J,A,L,K,C,P,K,B,E,T,N,J,A,H,J,J,P,E,J,D,J,D,P,K,J,B,C,C,R,L,S,M,T,D,J,F,R,D,D,B,T,T,D,G,A,L,M,P,M,C,T,B,C,J,F,R,K,T,C,G,P,D,S,B,P,L,T,D,R,K,A,E,C,W,T,J,D,G,E,J,H,L,B,J,G,R,J,S,T,D,J,H,R,J,D,M,P,C,J,N,C,H,G,H,C,T,C,C,D,F,O,J,H,A,C,J,M,P,S,D,C,M,T,M,M,A,B,Z,T,R,R,C,M,D,N,A,A,C,J,O,N,R,E,J,R,D,K,L,R,K,L,S,L,N,M,D,J,M,T,A,J,B,R,R,J,K,D,A,P,J,J,B,P,M,M,T,M,J,J,L,F,N,R,S,J,C,G,N,E,B,W,M,J,D,M,L,Z,A,X,S,J,A,T,C,R,M,H,S,A,W,D,T,A,B,B,F,I,M,J,J,D,R,T,K,E,I,B,C,D,J,A,J,D,M,J,R,P,A,L,R,J,S,M,T,C,F,K,W,J,T,O,A,C,B,L,E,J,W,N,J,M,S,R,F,D,E,R,J,D,J,S,R,R,C,D,I,R,B,J,D,P,A,T,G,E,A,G,B,J,C,J,C,J,S,T,B,C,K,M,S,J,M,S,B,R,B,K,M,T,F,V,R,M,D,G,B,G,A,S,A,T,K,M,F,A,E,M,L,J,M,D,L,E,M,K,C,S,R,M,T,F,S,K,B,A,H,Y,B,T,S,D,A,T,R,B,M,J,B,J,K,G,S,K,C,M,T,F,F,J,C,G,H,C,R,E,T,A,T,P,D,C,S,S,L,K,K,I,P,E,C,M,R,I,D,D,W,W,D,M,R,J,R,L,J,R,J,C,R,E,T,O,M,R,K,P,N,M,F,C,S,G,J,B,C,D,T,M,J,G,S,J,C,K,E,J,M,T,N,E,S,D,S,C,B,T,N,E,L,S,J,L,F,J,B,R,O,J,D,D,C,D,S,J,M,M,R,M,M,P,D,M,B,W,F,J,S,J,D,S,R,M,J,E,M,N,J,C,C,J,R,F,M,L,D,M,L,H,M,A,M,D,M,J,J,D,G,A,R,J,S,J,M,D,W,I,L,K,R,D,T,W,W,S,J,H,W,M,B,T,R,G,M,J,M,J,R,R,J,A,M,B,L,T,J,G,M,P,R,W,V,R,D,B,C,E,M,R,P,J,W,Y,C,P,D,N,T,F,C,D,R,J,R,M,K,B,M,H,E,E,G,S,J,J,N,M,H,W,J,N,M,S,J,B,J,M,J,J,M,L,B,P,K,S,D,T,S,W,J,K,T,B,J,P,M,W,D,B,H,J,M,J,L,N,P,D,D,K,M,A,T,W,S,L,J,O,B,J,G,T,M,K,T,G,L,N,J,S,P,M,M,S,K,T,B,T,E,T,C,K,H,Y,S,B,J,D,S,M,T,M,N,J,G,A,N,D,G,S,R,T,W,A,D,L,V,R,D,G,R,L,L,L,B,J,E,C,L,J,D,W,5,D,P,P,L,G,A,N,S,A,J,L,T,K,R,J,P,C,J,T,J,L,D,T,P,B,S,K,S,E,J,M,M,C,G,A,F,D,K,D,N,M,D,R,B,M,R,J,M,T,E,P,T,J,D,C,A,P,P,J,V,C,A,K,S,J,L,T,P,W,J,A,D,M,Z,X,G,M,E,J,E,J,A,A,M,J,D,E,J,C,G,L,J,J,W,R,I,C,J,J,G,P,M,B,S,J,D,A,A,B,J,N,K,C,D,S,T,S,B,J,D,E,P,B,J,G,E,S,S,R,K,C,M,H,R,G,M,C,Ó,R,T,R,R,D,C,J,G,J,P,B,C,S,A,R,B,B,P,J,C,C,A,D,R,D,H,W,C,C,A,C,J,D,G,M,V,D,J,K,W,D,J,D,T,M,B,C,R,L,B,J,S,A,P,D,S,A,S,D,B,C,B,J,T,O,H,P,M,T,B,D,R,F,O,J,R,C,Z,M,F,C,R,W,T,A,D,A,D,J,K,J,L,W,V,L,R,G,F,E,M,S,B,C,R,M,S,K,J,B,M,R,C,C,E,C,E,M,L,J,L,J,R,D,R,S,A,R,R,C,S,C,J,R,J,G,D,D,J,D,N,R,D,J,B,R,S,J,D,W,C,O,J,J,C,A,J,T,M,K,N,P,S,M,D,M,R,J,G,R,F,M,J,M,N,P,J,B,L,H,N,E,T,S,N,D,L,L,D,C,C,C,T,B,F,T,G,B,D,R,B,B,T,R,C,J,I,L,E,G,D,J,C,H,J,R,F,R,J,S,C,E,K,M,S,R,A,S,E,B,J,C,R,R,S,A,W,J,R,J,A,K,J,B,D,A,O,D,C,D,D,T,P,C,J,J,A,J,I,G,A,T,L,C,S,B,J,F,M,D,E,B,D,P,J,J,R,R,T,O,T,C,A,O,N,G,M,I,P,S,B,M,J,G,J,E,J,J,J,R,L,R,P,J,A,M,S,J,H,G,K,T,J,D,C,D,J,R,W,M,R,B,C,H,K,L,B,B,K,C,O,J,B,S,J,S,V,E,H,C,R,N,M,N,D,K,M,M,T,J,D,R,K,C,A,J,D,H,L,C,C,M,M,A,J,P,A,G,R,T,B,C,H,D,A,S,M,J,B,M,K,M,J,W,B,D,F,A,L,J,R,W,G,D,G,J,C,L,S,S,A,B,R,E,S,B,H,G,T,P,H,B,D,J,G,D,D,A,T,L,L,E,P,J,J,E,R,K,J,P,J,M,F,J,R,J,J,P,P,E,S,J,K,M,R,J,Y,M,R,M,J,G,J,R,T,J,A,T,J,R,G,D,J,L,I,C,T,B,S,A,R,C,S,O,K,B,T,J,R,P,T,J,J,N,L,R,G,T,L,R,T,S,A,J,L,D,M,J,K,J,B,J,K,C,D,K,R,A,N,A,I,R,E,P,R,T,E,B,R,B,U,P,C,T,P,B,S,J,A,W,N,D,G,R,B,M,M,J,D,F,M,O,J,R,B,M,R,D,C,S,F,N,T,J,G,C,S,A,C,A,T,T,J,G,W,D,M,P,G,N,W,C,K,J,T,C,C,S,A,A,C,P,A,R,R,H,J,J,E,A,B,R,A,H,J,A,M,A,T,G,R,O,K,D,J,M,E,M,N,A,M,H,Y,A,C,B,K,D,J,G,J,J,L,W,J,L,L,A,H,W,K,S,W,D,J,E,G,M,M,W,D,J,M,E,J,R,T,L,E,L,R,J,S,J,T,M,J,J,J,R,T,L,T,D,S,M,M,I,J,D,R,J,T,M,S,B,A,M,J,B,A,D,B,B,R,C,M,J,F,F,B,L,J,R,T,R,J,R,A,J,J,V,J,H,J,',Q,D,E,A,P,T,T,R,R,D,W,C,M,A,T,J,L,R,J,P,J,M,K,P,C,D,J,B,B,A,C,B,A,C,J,K,K,S,T,L,R,B,P,D,D,S,R,J,T,D,W,B,B,J,R,J,J,T,C,J,Z,N,M,A,T,R,J,J,D,S,J,B,E,S,J,H,D,R,J,B,A,F,D,O,T,G,S,J,P,G,D,G,P,T,H,J,M,S,M,S,J,D,S,B,D,B,L,J,J,D,J,J,R,D,T,J,D,D,A,T,J,G,M,J,J,R,J,K,W,M,G,G,J,T,G,C,K,S,C,M,J,B,A,P,J,J,M,J,P,M,P,L,R,P,C,D,K,C,D,S,W,C,A,I,W,Z,M,E,M,W,M,C,E,W,L,J,T,T,T,D,R,D,L,G,G,G,D,D,G,A,S,R,J,R,W,M,A,B,J,G,F,C,D,E,J,P,K,V,B,M,N,A,S,H,W,C,W,J,L,R,W,B,J,L,J,J,C,D,J,J,P,F,A,M,J,D,C,J,D,R,Z,S,E,T,R,J,E,P,J,J,A,M,D,R,M,J,M,C,D,A,C,M,J,J,B,D,C,O,L,A,D,S,B,D,J,R,M,C,G,C,P,G,P,A,S,J,B,J,L,C,B,K,K,F,C,A,M,V,A,C,M,Ó,F,S,C,N,B,K,D,R,J,C,J,S,G,S,B,B,V,D,A,J,N,T,N,D,S,L,W,Y,J,D,J,K,S,V,K,C,W,R,L,M,L,J,F,A,D,C,Y,M,M,K,N,R,J,R,R,S,G,V,E,J,M,A,J,A,B,A,L,C,J,C,D,G,A,P,C,M,M,J,M,W,M,J,S,J,L,C,R,D,S,J,J,M,B,P,M,A,A,C,L,J,R,R,R,S,M,J,G,J,V,C,K,L,C,S,D,J,J,G,R,J,M,H,C,S,D,H,E,C,N,E,M,B,D,C,V,C,L,J,L,B,J,C,H,D,K,V,R,A,J,E,B,T,D,B,B,J,J,A,K,M,N,J,A,R,D,M,B,S,J,M,B,L,L,L,J,R,R,P,M,G,G,P,J,E,G,B,T,J,A,T,J,A,M,J,J,T,A,J,B,S,M,B,K,F,H,J,M,T,G,C,R,A,A,B,R,J,A,E,R,J,B,S,D,R,S,J,J,S,B,S,M,M,A,L,H,A,S,T,P,C,J,D,P,G,J,S,R,J,S,J,J,J,S,O,J,D,J,J,P,M,B,C,J,M,O,C,J,J,P,B,D,M,D,F,R,K,S,J,R,L,S,B,J,K,W,S,K,R,B,D,W,P,P,M,J,W,M,R,J,A,Z,T,K,W,E,F,P,M,M,B,C,T,M,B,K,S,L,G,C,H,D,J,L,M,B,E,F,L,T,A,M,A,R,R,Z,M,F,G,A,J,C,S,R,S,M,S,L,S,S,D,S,J,P,M,C,A,G,M,M,G,R,J,P,S,A,K,A,J,J,C,G,N,B,S,K,N,O,M,A,G,J,V,D,B,Z,B,M,P,H,K,N,P,D,J,J,N,V,D,J,J,S,D,P,R,S,K,S,K,D,M,S,H,A,A,R,M,E,D,D,J,P,M,A,E,A,J,D,K,A,M,D,K,G,G,C,R,L,W,J,L,T,D,K,B,M,A,A,H,C,N,M,A,B,M,G,E,J,J,J,N,J,N,C,L,B,T,O,T,T,E,D,D,J,J,I,Z,J,A,C,B,J,T,N,M,A,B,R,S,J,F,J,M,I,G,R,R,M,M,R,E,S,C,J,"
     ]
    },
    {
     "name": "stdout",
     "output_type": "stream",
     "text": [
      "K,C,J,B,Z,I,J,M,P,',C,M,R,B,J,J,J,R,R,L,C,J,D,A,J,B,N,J,J,N,G,A,A,H,A,G,Z,S,C,A,C,D,R,P,T,W,C,S,R,K,C,G,T,F,P,B,L,T,Z,D,R,F,G,R,A,D,F,S,J,P,B,M,J,T,R,J,J,S,R,P,H,G,C,R,J,A,D,C,T,P,M,L,D,J,M,B,M,T,L,W,L,J,E,L,S,M,I,T,G,B,K,S,J,A,D,C,E,B,J,R,R,R,R,N,B,K,K,L,R,P,C,M,A,T,C,J,E,D,A,F,J,A,R,P,S,B,C,S,H,R,J,J,J,M,B,L,M,D,J,G,A,J,K,D,J,T,J,G,M,B,N,J,L,S,S,R,L,P,R,X,L,J,S,N,G,O,I,D,J,J,O,H,M,J,H,C,M,I,N,J,A,R,R,W,P,G,J,P,F,D,F,S,S,N,K,M,A,B,L,S,W,M,R,P,D,C,R,J,R,C,D,R,L,M,M,A,G,C,T,L,B,G,P,G,R,E,G,D,J,R,J,P,A,R,D,K,D,T,K,H,R,A,M,D,J,C,B,J,D,M,K,C,J,R,A,J,A,J,I,P,M,M,N,M,G,R,H,E,E,J,S,R,J,D,A,P,N,O,J,J,W,E,P,M,K,B,L,R,M,D,C,B,A,J,D,J,J,B,E,F,N,G,I,J,T,W,B,J,R,J,M,L,J,J,D,D,G,A,B,M,K,C,D,D,S,E,A,M,K,J,D,R,A,J,S,D,D,K,S,N,N,E,I,D,T,T,J,J,D,B,K,T,A,J,W,D,G,R,D,M,S,J,G,C,E,K,F,N,J,C,S,A,D,C,M,E,R,K,B,B,J,E,R,H,Y,L,D,M,J,C,B,T,M,N,N,C,T,H,A,W,I,D,T,B,P,D,D,K,R,D,M,U,K,N,B,R,M,B,A,B,B,F,C,R,D,C,S,J,J,P,T,R,O,B,I,D,T,R,K,M,C,A,P,J,C,M,T,G,P,T,G,B,H,A,E,S,E,D,B,K,N,J,C,C,G,N,D,T,R,J,K,D,L,D,H,P,M,B,S,P,S,K,H,K,D,D,G,T,P,R,R,J,M,P,R,J,J,J,J,A,C,P,F,B,R,K,T,J,T,M,G,G,D,J,R,S,T,B,B,J,D,S,W,K,D,C,J,J,R,B,D,A,R,W,B,A,S,S,P,R,T,S,S,M,C,J,E,M,A,E,B,A,R,G,C,A,K,T,J,T,J,A,A,O,C,S,G,T,G,M,N,A,A,S,A,J,A,N,B,L,I,S,D,P,D,T,D,T,U,A,L,J,M,B,T,D,P,C,K,G,T,C,B,E,N,M,A,J,V,R,J,L,A,E,D,B,N,D,B,A,D,N,M,W,S,S,B,S,R,V,S,A,R,S,G,J,K,B,T,L,J,L,D,P,G,S,A,M,J,R,J,B,N,S,G,R,J,J,S,J,K,D,S,M,T,J,A,J,J,N,R,S,B,T,P,J,J,A,P,B,J,S,L,B,C,B,C,J,A,O,L,T,D,R,R,B,S,R,C,P,A,L,D,K,F,D,K,B,P,L,W,P,J,G,N,J,T,S,A,P,J,D,F,S,O,T,J,T,M,M,J,J,H,I,C,H,B,S,T,M,L,J,B,J,S,G,N,S,B,G,M,D,M,T,A,K,D,C,C,J,J,R,S,S,M,D,S,R,D,A,R,M,N,D,A,J,M,R,G,A,A,F,W,W,J,J,D,A,D,A,R,N,E,R,J,H,R,E,A,P,S,S,N,F,B,V,N,B,B,R,G,S,S,E,L,A,G,H,C,T,B,M,C,L,L,J,A,B,S,T,J,B,B,R,N,P,D,C,J,J,J,S,R,B,J,J,B,H,T,E,A,J,C,S,O,C,J,W,H,J,C,J,J,M,D,O,R,D,R,J,S,K,K,R,T,S,A,D,R,T,A,J,T,D,R,J,J,T,G,S,B,D,D,Z,A,I,C,A,J,N,J,R,K,H,T,M,L,M,M,J,E,J,M,K,J,A,D,D,D,J,A,D,T,R,D,J,J,M,M,D,R,M,F,K,M,Z,P,D,K,W,E,N,J,A,M,A,D,M,J,M,J,B,D,D,J,J,A,M,D,J,D,D,H,J,M,M,R,N,J,N,J,D,O,J,R,S,K,A,S,J,M,A,P,R,B,G,J,M,S,J,S,S,J,J,D,S,J,L,P,R,R,L,P,S,D,N,P,L,L,M,M,B,J,L,D,J,H,B,G,J,R,J,V,R,H,E,C,B,B,G,P,W,T,R,J,B,N,C,R,C,K,P,R,Z,S,O,C,A,D,L,F,K,T,D,M,D,R,E,B,P,M,N,C,S,A,Y,E,J,D,B,T,R,I,O,C,N,G,H,R,G,R,S,C,W,F,T,A,N,C,J,R,C,C,C,G,H,R,J,O,J,B,B,R,B,D,A,R,P,M,S,M,E,B,J,C,T,A,E,N,M,M,R,J,H,J,T,R,M,M,B,P,S,S,N,E,J,T,W,S,P,G,R,J,C,J,G,K,R,B,D,J,V,G,L,K,C,A,J,M,R,D,A,T,V,L,G,D,D,H,N,S,G,A,A,B,J,J,A,K,P,D,R,I,J,A,E,J,T,B,J,C,A,J,C,T,D,O,J,J,E,D,D,D,R,W,T,J,G,N,C,M,S,B,T,F,P,Q,A,D,J,N,S,T,D,N,H,C,P,M,D,P,T,D,P,H,T,S,T,G,C,J,S,E,L,L,M,D,G,J,A,D,P,R,O,C,S,T,B,A,A,T,S,R,J,Z,L,J,N,T,I,V,M,J,M,M,M,S,A,D,N,D,C,B,H,C,C,A,J,S,J,J,Z,G,C,P,V,M,J,R,J,B,L,J,L,H,R,C,N,D,P,R,D,A,C,I,D,C,C,G,L,P,I,J,L,T,D,C,J,D,M,T,J,J,I,R,Y,N,B,T,M,M,M,J,J,M,P,T,D,J,J,G,G,E,M,H,T,R,M,O,A,D,Y,P,G,J,G,S,D,H,R,J,S,K,G,D,K,J,A,P,J,S,E,T,P,A,D,E,L,W,V,J,W,W,N,T,J,B,S,S,T,H,A,T,Y,B,N,D,S,D,N,J,H,C,H,J,G,R,D,D,M,K,O,P,T,L,F,T,P,D,B,L,G,G,C,J,T,J,C,V,C,D,M,F,E,J,D,J,A,H,G,E,O,D,J,I,L,W,F,N,R,H,W,G,V,R,B,A,A,P,T,J,A,R,N,T,L,G,G,D,A,S,L,F,J,L,C,C,J,B,N,L,J,G,A,D,T,M,J,W,Z,A,M,R,S,L,D,R,H,K,S,M,L,D,R,F,M,R,D,M,J,H,A,P,E,G,D,J,R,R,C,C,D,P,R,B,S,G,J,A,J,K,S,K,S,R,G,D,J,H,L,B,R,W,B,M,G,L,F,D,C,J,M,B,A,F,D,D,J,A,J,K,J,P,J,J,J,C,B,B,D,A,S,N,J,D,N,B,V,D,G,E,G,R,W,M,L,M,G,D,G,M,L,D,C,G,J,L,J,B,D,T,R,T,R,D,R,T,R,J,J,N,M,D,J,J,M,P,J,C,C,G,R,T,A,J,K,C,J,J,A,G,J,D,G,T,T,C,R,B,D,L,P,G,J,T,N,K,R,D,D,S,B,M,M,J,J,Q,C,M,M,J,B,K,H,D,S,B,A,G,S,A,R,A,S,S,C,K,C,A,R,S,A,A,J,S,P,G,D,R,B,J,E,J,T,K,C,D,J,S,P,E,P,P,J,A,K,S,J,C,J,J,J,M,J,B,E,T,J,T,C,J,A,B,C,J,T,K,M,L,J,R,D,B,R,M,R,B,B,N,A,V,B,S,B,J,R,T,C,R,I,A,O,J,S,R,B,T,A,D,W,E,D,J,M,J,V,N,C,R,R,S,D,B,D,J,S,A,N,J,R,P,K,C,B,D,T,S,P,A,E,J,B,M,J,R,J,P,C,J,S,P,R,M,A,N,B,M,B,R,R,R,K,D,S,J,G,T,D,D,K,M,C,G,B,H,J,T,P,A,C,L,D,L,N,B,C,L,C,H,J,M,J,J,P,J,I,T,W,A,J,D,E,J,J,R,G,J,S,M,S,M,D,S,A,D,T,C,J,J,J,C,S,G,P,J,M,J,É,M,M,J,J,L,K,G,R,C,S,W,T,A,B,S,M,S,B,J,B,S,A,B,Y,D,H,F,M,F,D,R,A,J,F,C,J,C,T,S,R,C,R,R,J,T,S,G,M,N,S,J,H,R,K,L,S,J,R,K,V,J,M,J,K,T,V,T,M,D,P,P,S,M,R,J,M,A,M,J,M,L,M,T,R,T,K,M,S,D,A,R,P,R,T,G,J,G,J,E,H,S,E,A,C,A,A,N,P,M,N,T,J,D,P,R,J,R,P,S,J,J,F,A,L,K,S,B,S,R,O,E,B,R,H,M,R,S,B,J,B,S,R,M,T,C,G,T,M,D,S,T,C,J,E,J,K,B,A,L,C,J,D,L,J,D,H,D,M,B,F,B,D,B,L,A,K,B,E,T,N,H,M,F,R,W,D,B,N,Z,L,J,T,E,S,J,J,J,C,B,B,T,D,M,P,T,H,O,E,E,L,A,J,A,P,R,J,D,J,S,J,E,B,S,D,L,G,B,R,J,A,R,T,C,R,E,J,J,V,A,W,N,N,J,S,L,N,T,S,H,D,Z,M,A,J,R,H,C,P,A,A,A,B,D,J,S,F,C,R,P,J,N,D,M,A,N,R,M,D,E,E,S,T,W,K,S,A,C,J,M,A,C,S,T,J,B,P,C,J,C,R,G,T,A,S,B,J,C,P,G,R,A,P,M,L,W,J,P,R,M,M,G,T,T,P,B,Á,L,N,C,R,H,L,D,R,E,C,S,T,G,M,K,R,N,C,D,M,A,A,L,D,W,G,M,M,C,D,R,E,N,R,M,C,S,B,E,R,F,T,D,M,W,R,B,R,M,L,A,A,A,N,L,M,R,J,M,T,V,P,J,H,D,S,T,M,N,M,M,J,S,R,J,W,T,N,P,S,S,R,M,J,G,K,D,D,S,P,J,J,M,T,B,R,E,J,T,C,B,B,S,C,T,E,C,M,J,A,H,K,C,S,D,M,G,R,J,A,D,M,A,T,W,J,C,R,B,C,M,J,K,D,M,F,M,J,D,M,R,A,J,H,A,C,J,W,M,D,C,J,H,J,M,A,J,C,R,B,T,F,W,F,O,A,R,D,A,D,K,T,R,J,J,M,C,C,C,R,N,R,N,J,G,R,C,J,B,D,F,S,C,R,H,F,C,H,R,E,M,P,D,R,M,E,K,S,R,M,J,B,B,C,C,T,D,V,Y,P,A,C,B,J,J,R,B,D,T,P,G,A,P,T,P,N,D,P,S,K,R,R,M,A,M,N,H,R,J,J,C,E,J,B,A,C,W,E,V,R,S,D,B,J,O,I,J,B,C,J,B,G,M,C,L,G,S,A,S,E,S,T,C,R,B,I,S,A,G,J,G,T,C,R,R,L,C,M,A,R,A,D,R,A,D,J,T,A,T,R,R,K,K,W,L,C,J,N,J,L,N,C,Q,T,T,J,D,W,P,L,D,M,S,B,C,D,C,A,T,L,B,D,B,M,G,T,L,D,T,R,C,H,B,R,C,J,M,C,D,C,J,P,J,A,B,R,M,R,A,A,A,C,D,J,K,J,D,I,T,L,P,W,B,S,R,C,N,J,N,A,K,B,J,N,J,J,J,V,A,A,S,C,A,G,D,F,S,J,W,S,B,M,A,S,J,O,S,J,P,R,D,A,M,N,K,J,S,K,A,G,T,W,C,T,H,I,S,N,B,T,B,J,Z,R,T,R,N,S,L,M,D,W,D,R,B,M,J,J,B,J,M,P,J,F,S,D,B,A,S,W,S,L,J,V,L,C,K,S,M,L,J,A,J,B,T,C,J,A,F,S,B,G,J,P,J,A,B,R,L,J,M,D,J,J,F,T,E,B,M,R,G,R,E,L,J,J,R,D,S,K,D,S,P,V,P,M,G,S,L,P,D,I,R,R,T,M,D,A,K,R,M,J,C,P,K,E,W,R,M,R,J,D,W,J,S,T,C,H,T,R,T,C,D,D,J,J,A,J,B,H,C,J,E,M,K,T,L,R,S,M,B,J,G,K,D,D,N,M,A,R,A,J,F,D,H,J,M,S,M,B,B,J,F,N,B,P,D,C,R,C,R,R,J,E,P,C,P,J,R,P,D,M,V,M,Z,O,G,T,J,T,J,J,C,P,V,M,D,M,S,J,J,A,F,K,R,M,Y,M,A,G,G,G,B,S,E,B,J,J,D,S,K,N,A,G,J,J,K,A,T,P,R,J,B,A,A,C,R,J,I,J,R,R,D,M,J,M,L,T,S,F,C,F,W,T,D,R,D,A,D,D,T,K,J,M,J,A,B,C,R,A,M,T,D,C,H,B,P,D,E,P,T,M,M,W,D,B,K,M,J,R,M,R,M,R,J,J,A,S,P,D,R,C,R,B,A,G,F,D,A,J,T,D,J,J,N,V,L,A,P,N,A,D,A,C,J,K,L,B,S,K,M,J,X,B,J,R,M,P,R,E,L,M,J,J,A,J,A,J,J,D,R,J,J,M,G,J,S,J,A,A,L,A,P,R,L,T,A,A,O,P,R,S,G,J,P,L,B,B,J,A,A,M,C,C,C,M,M,S,S,D,D,J,R,H,H,Z,J,T,L,J,M,J,J,C,E,A,A,P,I,G,R,M,G,S,R,M,J,C,W,C,D,M,W,T,T,M,T,F,S,B,G,J,A,A,H,Z,C,A,É,R,M,J,O,E,M,J,N,R,E,O,R,B,I,J,M,W,D,M,D,J,S,A,S,F,K,M,E,D,S,A,R,R,C,R,R,K,A,R,Ó,C,J,M,J,J,G,M,D,G,E,L,I,B,O,O,A,R,J,D,G,I,B,G,C,J,B,A,V,B,B,R,P,D,K,T,B,D,C,P,D,J,D,M,B,R,F,T,J,N,J,M,R,S,K,J,R,D,O,A,B,U,L,D,R,W,M,E,I,P,T,A,C,L,D,A,A,P,F,B,P,R,J,W,R,V,P,J,G,J,B,I,K,D,D,D,M,M,A,C,P,S,B,N,J,J,L,R,D,J,W,A,M,N,P,J,C,J,J,J,O,T,R,A,E,A,R,J,J,J,J,B,W,J,L,T,D,M,F,G,J,M,O,S,D,K,C,F,G,P,J,P,P,J,G,J,C,D,P,A,H,L,J,J,B,S,E,B,C,G,G,C,O,P,B,V,B,P,L,C,P,D,S,T,B,D,J,W,J,M,T,J,J,R,M,J,E,S,D,G,Z,B,P,G,K,S,M,J,M,I,B,J,M,R,J,T,T,A,C,A,C,P,A,R,T,J,B,B,N,M,C,C,A,N,J,F,D,C,S,W,A,J,A,A,W,G,I,J,C,M,L,P,M,T,L,J,R,A,D,R,W,D,L,J,I,S,K,A,M,D,J,C,A,R,M,K,J,R,D,L,T,R,J,A,K,M,B,R,S,C,D,D,C,D,K,E,P,T,D,M,S,G,T,Y,M,S,K,E,R,B,N,J,D,L,R,R,A,P,D,B,E,T,R,S,R,K,S,T,N,M,F,N,L,V,J,M,J,S,J,B,H,W,R,J,T,W,C,J,J,R,G,S,S,S,M,P,J,H,T,M,R,S,B,A,J,J,K,G,R,C,T,D,A,M,D,C,B,B,M,B,M,N,B,N,O,C,K,J,R,T,N,A,P,E,G,G,D,J,A,C,A,J,K,E,S,J,B,I,A,P,H,D,B,J,N,C,I,S,S,G,H,R,D,N,M,D,U,B,M,B,A,W,A,J,J,H,J,Z,L,D,P,J,K,D,B,D,B,J,G,S,M,J,M,N,J,B,D,K,K,T,K,M,J,A,D,B,G,B,T,B,N,E,C,P,A,L,G,M,L,A,Z,A,D,T,F,M,S,K,V,E,G,E,S,D,S,M,D,R,Y,C,R,J,J,N,B,P,S,M,T,J,M,R,H,T,E,G,J,R,C,H,P,J,P,B,J,A,C,A,G,C,M,S,J,E,M,J,M,J,N,J,T,M,P,B,P,M,T,J,S,M,A,A,H,D,J,S,D,I,T,N,A,M,M,T,A,D,D,B,D,R,M,J,L,J,B,A,T,E,R,S,Y,K,N,L,S,K,R,M,R,P,M,K,B,B,M,O,C,E,K,M,C,G,G,A,M,L,J,M,R,N,R,J,G,R,C,G,P,F,L,Y,W,R,C,A,R,S,D,E,B,N,S,B,J,B,J,M,F,B,O,G,J,E,D,J,P,B,J,P,A,C,T,M,B,M,D,D,R,J,G,S,A,J,V,D,V,G,J,P,M,O,T,B,R,A,D,S,C,M,R,M,L,T,M,E,J,I,E,D,J,H,S,R,W,T,G,H,R,A,M,R,B,G,H,H,S,R,L,S,R,S,J,J,J,P,M,N,J,P,Z,B,M,J,F,F,M,R,J,R,J,G,J,P,S,D,P,J,S,J,R,A,R,W,C,W,J,A,E,R,W,N,K,D,J,B,M,G,J,B,J,J,J,T,L,Á,T,M,R,P,M,S,S,K,J,A,R,J,J,M,E,A,D,S,J,G,W,L,K,B,M,J,P,A,F,M,T,K,Y,N,J,K,D,A,K,J,N,S,M,P,K,K,P,K,G,T,D,H,C,P,S,L,B,A,J,A,B,C,R,C,Y,A,T,W,C,J,C,M,H,A,J,N,T,L,E,C,D,A,B,S,J,S,A,R,C,J,R,L,J,V,J,G,T,C,M,C,K,J,J,T,C,R,C,N,D,W,N,H,A,B,J,J,P,A,P,L,L,D,H,I,R,B,A,G,J,C,J,S,J,M,J,F,A,A,L,K,J,A,S,S,G,R,J,B,O,G,J,J,T,J,T,V,E,F,N,K,R,A,V,B,D,C,D,M,B,J,J,M,K,S,D,E,R,S,J,N,B,"
     ]
    },
    {
     "name": "stdout",
     "output_type": "stream",
     "text": [
      "P,S,E,D,C,J,C,W,C,B,R,B,M,E,T,S,P,E,I,M,D,B,M,J,B,Z,K,B,A,J,K,J,G,M,J,S,J,F,D,C,P,R,J,L,G,W,H,R,T,S,A,G,C,Z,A,J,C,G,L,R,P,Y,J,M,N,M,W,D,R,D,D,J,R,L,H,B,A,D,G,J,G,J,N,D,J,B,G,D,A,E,S,M,P,P,L,D,R,A,F,A,J,M,A,E,B,N,J,L,A,I,B,T,W,M,I,G,N,S,D,S,S,J,M,C,H,G,I,J,P,F,B,M,S,V,M,L,L,Y,B,C,K,J,C,C,R,G,M,J,J,J,C,A,R,T,M,T,B,S,J,K,B,H,C,D,Z,P,J,A,J,M,C,M,M,R,D,H,B,D,A,A,M,P,N,M,L,K,J,J,R,J,K,S,M,M,T,T,P,B,D,G,A,G,A,S,A,W,J,S,J,M,E,J,J,K,M,N,J,S,A,F,K,G,S,K,T,J,R,J,A,R,T,M,G,E,S,M,M,J,W,S,V,D,K,F,T,L,N,Z,R,J,D,R,M,T,M,E,D,A,E,D,R,D,J,P,A,W,D,S,T,C,D,K,C,L,L,F,M,J,O,J,T,D,J,A,J,D,M,W,B,K,M,M,L,M,J,G,D,R,G,T,R,N,R,J,L,D,B,G,J,L,B,B,D,S,D,G,C,E,M,J,P,L,D,S,N,Y,A,J,T,M,R,W,A,L,M,M,D,P,C,M,A,J,J,B,J,A,J,D,T,M,M,M,T,N,H,A,J,D,J,T,M,R,M,P,D,J,A,D,C,R,P,J,P,V,S,J,V,R,J,A,P,J,S,G,C,R,D,R,T,S,J,B,M,R,A,M,N,M,M,W,G,M,B,E,F,K,A,K,J,C,S,M,M,T,F,G,B,R,M,A,M,P,A,A,G,J,L,M,J,P,N,M,M,T,J,M,A,D,J,T,M,J,I,N,D,D,C,J,D,G,T,G,A,C,R,S,A,B,B,C,M,T,A,W,V,J,T,T,P,B,M,B,R,T,E,P,K,S,G,P,K,B,A,L,J,A,M,J,S,A,D,H,C,G,S,P,M,S,B,N,A,J,C,M,B,B,E,J,J,H,J,A,B,T,C,E,S,F,G,B,J,M,S,D,D,P,T,E,S,M,C,A,S,S,L,T,C,R,E,D,P,R,M,G,A,A,J,R,Y,J,R,C,D,C,A,R,C,K,I,N,R,J,M,A,B,J,R,G,H,J,G,P,C,Á,C,J,P,R,J,A,D,M,R,M,P,M,A,T,J,H,D,P,T,D,M,D,F,K,D,G,M,Y,N,A,L,J,M,L,G,M,A,K,M,H,M,L,W,D,K,C,D,J,J,R,R,P,M,J,R,M,H,C,R,J,A,X,A,L,D,P,A,F,R,J,S,T,S,C,K,K,A,D,E,R,S,M,M,B,R,B,C,M,P,A,N,A,T,C,R,N,M,P,T,C,E,J,G,W,B,W,L,J,J,G,R,E,J,C,G,A,T,J,J,A,J,I,P,N,D,C,N,J,J,D,R,W,D,X,C,C,T,G,A,L,S,I,T,E,G,J,S,Z,J,S,J,G,K,B,C,M,P,T,B,R,B,A,W,H,E,V,V,D,B,M,T,K,M,K,B,M,W,J,J,R,N,G,R,C,S,R,J,D,H,T,M,T,T,S,L,R,J,C,A,P,V,D,D,M,A,P,P,D,J,V,M,C,N,B,S,T,L,V,J,K,J,L,J,R,H,M,A,R,N,R,F,F,R,N,G,R,T,R,S,A,M,M,M,K,P,S,J,Y,D,A,K,G,M,F,J,A,D,B,G,L,L,A,W,C,B,R,D,J,E,R,F,D,T,J,D,R,T,A,D,R,P,D,R,S,J,P,B,C,G,D,L,A,F,A,B,A,H,M,D,D,A,L,W,K,M,C,P,M,L,S,E,C,J,J,M,B,C,J,E,P,J,C,T,A,F,M,J,J,G,M,D,T,S,M,V,T,D,T,C,R,E,D,R,L,F,N,B,R,B,T,C,B,J,C,O,J,A,M,G,H,D,S,P,J,C,V,L,J,E,A,A,B,L,T,J,C,M,J,M,A,J,D,H,M,M,J,M,T,N,J,T,N,N,M,C,E,J,A,A,P,D,B,D,J,C,J,P,S,C,S,J,G,E,D,J,L,J,J,T,T,J,J,L,A,L,A,B,O,K,A,C,J,S,T,R,Y,L,D,E,D,R,O,T,J,G,T,M,J,M,B,T,J,N,G,S,K,A,K,P,R,T,E,O,S,R,É,C,S,J,H,F,R,R,Z,G,R,D,J,H,P,P,D,J,V,D,J,S,S,R,D,K,V,M,N,A,D,Z,B,T,L,C,S,G,A,R,S,M,O,R,B,M,C,W,M,S,B,V,B,C,E,L,A,J,D,M,G,D,S,J,P,B,S,A,S,A,M,L,D,H,M,L,S,S,C,S,E,C,L,A,R,B,P,P,P,P,N,S,J,D,D,T,G,S,J,P,M,J,N,C,F,E,J,J,C,D,B,C,L,C,C,H,B,K,G,T,J,M,A,S,C,D,J,B,N,D,9,M,T,J,T,M,H,P,G,B,H,V,S,S,Z,H,K,M,J,C,M,M,J,A,J,B,P,C,D,C,R,C,E,N,M,C,R,Q,J,C,G,E,T,R,J,M,J,T,B,D,T,T,D,F,J,J,J,M,K,D,G,L,T,A,L,J,L,B,H,J,J,S,C,G,M,H,J,F,L,S,F,H,G,B,H,J,C,S,R,S,R,D,C,J,P,J,M,J,J,M,H,J,G,C,M,A,D,S,J,P,A,Z,C,R,H,J,D,J,P,A,C,B,J,W,J,R,J,W,D,S,D,B,I,M,R,R,J,R,R,C,A,V,L,P,R,M,D,B,J,M,M,T,W,D,P,S,S,M,J,E,A,K,R,G,G,T,M,M,J,A,T,J,E,C,A,D,M,T,R,S,C,J,K,P,P,M,K,A,B,W,Z,J,R,J,A,M,O,A,R,G,B,J,G,A,C,J,D,E,J,B,T,S,D,D,R,B,O,J,J,D,J,C,E,A,D,S,P,J,C,S,C,B,M,P,M,E,S,J,C,D,A,K,J,J,B,D,L,H,K,A,P,A,G,J,G,J,R,M,M,W,W,D,J,G,N,W,D,E,S,S,L,A,W,B,S,A,J,J,A,J,W,S,S,S,C,C,R,K,L,P,C,S,S,D,A,J,T,T,D,D,J,O,D,J,S,T,M,L,B,F,H,H,P,B,O,L,F,J,K,J,J,D,P,B,S,T,P,C,J,T,J,L,S,N,J,A,B,M,E,K,P,T,B,H,S,J,D,P,A,N,D,C,C,O,T,B,O,J,M,H,J,D,R,H,N,T,A,R,B,C,D,H,S,A,A,D,M,Z,R,R,A,L,P,S,B,R,M,L,C,Z,V,D,D,G,J,B,J,B,M,R,G,M,J,A,S,C,S,S,M,R,G,A,A,J,M,A,T,V,D,B,D,M,W,M,L,P,A,N,O,J,S,G,F,N,R,S,M,M,S,D,B,J,Y,A,Y,D,R,C,J,R,E,W,T,T,M,A,A,A,E,J,R,J,I,G,D,A,L,J,T,D,L,M,P,J,R,J,J,V,S,J,L,V,S,D,J,R,D,S,P,E,M,B,T,M,C,A,K,M,M,C,M,J,U,R,E,S,P,P,T,G,L,C,M,M,J,D,R,W,T,L,R,N,R,R,B,R,D,H,J,G,H,G,J,E,J,J,I,M,J,J,S,J,E,H,S,C,J,M,V,T,J,M,D,A,O,J,T,N,F,J,Á,B,D,Q,A,M,S,B,R,F,M,B,N,S,M,A,C,L,S,W,F,G,R,M,T,J,J,D,E,T,D,D,R,N,S,D,B,V,S,A,W,I,R,S,E,A,T,K,S,C,M,N,B,success : 9977\n",
      "errors : 0\n"
     ]
    }
   ],
   "source": [
    "imdb_download_report = {'success':[], 'error':[]}\n",
    "\n",
    "for link in dict_imdb_links['male']:\n",
    "    name = link\n",
    "    url = dict_imdb_links['male'][link]\n",
    "    headers = {'User-Agent': 'Mozilla/5.0 (Macintosh; Intel Mac OS X 10_10_1) AppleWebKit/537.36 (KHTML, like Gecko) Chrome/39.0.2171.95 Safari/537.36'}\n",
    "    print(name[0], end=',')\n",
    "    try:        \n",
    "        response = requests.get(url, headers=headers, timeout=6)\n",
    "        if response.status_code == 200:\n",
    "            picture = open('imdb/male/' + name + '.jpg', 'wb')\n",
    "            picture.write(response.content)\n",
    "            imdb_download_report['success'].append(name)\n",
    "            picture.close()\n",
    "        else:\n",
    "            imdb_download_report['error'].append((name, response.status_code))\n",
    "    except requests.exceptions.Timeout:\n",
    "        imdb_download_report['error'].append((name, 'timeout'))\n",
    "    \n",
    "#     # DELETE IF YOU WANT TO DOWNLOAD MORE\n",
    "#     if index == 50:\n",
    "#         break\n",
    "\n",
    "print('success :', len(imdb_download_report['success']))\n",
    "print('errors :', len(imdb_download_report['error']))"
   ]
  },
  {
   "cell_type": "code",
   "execution_count": 12,
   "id": "70c568eb",
   "metadata": {
    "scrolled": true
   },
   "outputs": [
    {
     "name": "stdout",
     "output_type": "stream",
     "text": [
      "A,K,P,P,R,E,S,E,R,K,F,K,D,J,H,L,B,J,L,T,A,A,A,S,H,S,A,C,B,E,L,R,A,M,M,A,I,G,A,E,D,J,S,K,C,M,B,D,Z,K,H,C,S,K,S,J,E,D,H,Z,A,Y,M,M,S,A,J,B,E,S,K,M,M,A,D,S,R,A,R,K,C,C,A,R,A,G,K,A,J,L,E,R,N,M,S,M,L,R,L,M,M,L,M,J,R,A,M,D,E,L,C,C,H,D,A,K,A,E,D,D,B,T,A,K,E,M,B,C,L,L,I,M,M,J,C,A,A,J,C,R,M,A,A,B,S,A,A,J,J,A,A,E,J,A,K,S,J,A,M,U,N,V,A,L,J,K,T,A,A,B,M,E,E,J,M,C,C,D,M,A,V,M,S,C,A,E,M,E,K,H,J,V,G,N,P,S,M,M,H,H,E,D,D,K,J,A,J,C,G,S,K,D,A,R,M,A,C,J,S,S,S,E,B,J,G,R,O,L,A,E,E,S,K,R,A,M,M,T,B,T,O,S,A,Z,J,K,Y,K,G,O,R,J,S,A,L,E,G,A,N,N,Z,E,K,E,A,O,D,E,M,C,A,K,M,S,J,A,A,A,A,M,K,E,E,O,A,W,M,J,B,C,N,K,H,S,R,M,M,C,C,G,R,M,J,S,M,D,T,N,D,S,C,J,J,P,J,I,J,N,K,N,B,H,Z,J,G,C,K,F,O,B,T,A,L,E,A,K,S,C,J,J,R,N,E,E,C,M,R,M,M,L,A,R,A,N,E,K,T,J,M,G,A,W,S,G,O,L,M,R,R,H,J,C,J,S,D,J,H,K,S,F,S,J,O,L,I,D,S,Z,M,A,S,S,M,L,S,A,A,P,B,J,A,J,J,K,J,J,R,M,M,A,E,E,P,F,S,G,E,S,P,K,F,H,H,W,M,P,C,R,E,M,H,J,A,D,I,G,M,A,K,H,M,D,J,A,T,E,L,D,A,J,P,T,A,E,V,G,J,J,C,O,Z,D,M,R,I,E,C,S,J,C,D,T,T,V,B,S,S,J,A,L,P,R,S,B,A,E,C,S,E,R,V,J,P,S,D,G,C,R,R,G,J,T,L,K,K,B,H,M,E,K,M,M,R,J,M,C,J,N,F,M,G,J,K,A,J,S,R,M,K,M,S,C,A,H,A,E,E,G,C,M,T,P,P,L,B,W,K,J,M,A,K,R,S,K,M,C,L,T,R,O,A,C,T,M,C,C,R,A,D,A,L,M,J,C,J,J,G,L,H,L,S,A,D,M,E,B,M,S,G,R,A,H,K,M,C,X,N,G,A,W,F,B,K,A,J,H,R,S,K,A,K,A,K,T,M,M,A,D,K,M,M,D,A,B,E,J,M,O,L,J,J,K,C,M,R,N,S,S,O,S,E,A,S,S,A,S,E,N,T,S,A,A,A,A,N,M,L,K,D,M,E,N,M,A,G,I,I,L,B,G,H,M,P,R,E,L,K,N,J,I,L,S,M,M,V,C,J,A,Z,J,E,L,G,R,C,M,S,G,C,J,F,C,S,M,E,M,E,L,T,J,M,B,J,S,E,K,G,M,W,A,K,P,M,R,T,D,K,I,T,N,C,T,L,A,M,J,R,S,J,H,A,M,E,M,M,C,L,T,R,L,C,A,K,S,J,P,B,K,B,C,J,K,A,K,G,S,D,Y,M,E,N,M,A,L,A,L,C,P,T,L,A,E,L,C,H,V,J,C,J,S,J,N,L,E,K,M,V,N,J,C,E,E,J,L,D,T,J,B,S,A,T,L,A,A,I,E,B,D,S,B,M,A,D,K,M,S,A,M,J,K,D,E,K,M,M,L,A,F,T,K,S,H,E,M,M,K,A,C,E,B,A,R,M,S,A,T,G,A,A,L,Y,E,A,P,B,L,M,L,M,W,L,T,M,J,A,M,J,D,K,K,S,W,A,M,Z,M,H,L,M,C,J,L,M,K,M,M,E,J,F,A,S,E,E,A,A,R,E,D,M,O,M,E,L,M,S,K,L,O,L,L,V,K,E,J,K,K,D,M,B,S,F,M,A,M,J,A,A,Y,A,F,S,H,H,A,A,L,C,M,L,F,A,V,D,M,S,L,L,V,A,E,H,S,N,N,M,M,C,L,A,E,R,T,J,L,A,T,L,K,S,L,B,C,V,M,C,J,N,T,P,M,A,J,A,R,K,J,E,L,S,Z,I,O,L,K,R,P,G,A,M,T,J,J,R,L,T,A,M,H,F,S,N,J,C,D,G,D,M,J,F,K,L,J,C,J,D,M,E,J,E,N,J,N,E,J,J,S,A,J,K,L,A,V,D,G,C,D,S,M,E,J,J,J,H,C,T,E,L,S,J,S,M,G,A,K,P,A,T,H,E,N,C,K,B,B,N,R,M,P,J,K,J,P,F,K,J,C,L,R,V,M,T,J,A,E,L,J,S,D,L,C,A,G,B,M,J,J,C,F,P,T,T,R,E,A,D,M,K,L,C,K,R,J,K,M,R,I,B,J,N,L,G,N,L,D,N,G,A,L,A,N,E,S,J,P,A,A,G,M,R,T,L,A,R,A,V,S,I,N,C,B,S,M,A,J,B,E,J,V,N,K,N,N,L,C,D,A,S,S,B,M,O,E,R,S,V,R,M,E,Y,C,F,C,F,P,N,K,S,M,K,E,C,A,M,J,C,A,F,A,L,U,C,K,K,M,M,P,T,T,M,J,B,B,M,V,P,A,N,T,C,C,O,A,C,E,A,A,V,F,C,L,O,V,L,M,A,D,J,M,D,P,C,A,S,C,P,T,C,H,G,S,M,Z,B,G,Ú,N,C,T,A,B,D,M,S,G,S,D,A,T,J,A,R,J,R,C,L,N,R,D,E,J,C,B,S,M,J,J,S,S,L,L,L,C,K,E,K,J,W,S,L,P,M,M,M,R,J,B,M,K,M,B,S,S,A,V,L,E,B,D,P,H,A,C,B,M,M,I,C,B,A,M,D,S,S,A,F,A,L,D,K,J,C,H,T,T,L,C,M,A,T,G,B,A,N,J,N,M,H,D,K,D,A,M,M,M,V,E,S,N,H,S,G,F,N,J,D,C,R,Y,S,J,A,A,M,E,C,A,J,A,M,S,L,E,Z,S,K,M,J,E,C,J,M,M,B,E,M,A,D,C,P,C,M,A,S,Z,B,D,S,E,E,A,K,M,Z,D,B,A,S,J,T,Q,A,A,J,G,S,R,M,F,P,E,N,M,C,L,E,L,J,J,A,A,K,J,J,E,O,E,M,B,K,I,F,K,A,B,D,L,A,E,A,K,K,S,J,J,O,B,S,S,S,I,A,M,A,T,N,J,M,S,J,I,W,D,S,E,P,P,D,D,H,T,O,J,A,B,A,J,S,A,J,S,S,B,J,M,J,A,M,I,K,S,S,E,J,R,P,M,B,V,M,P,C,J,V,B,K,G,H,B,D,L,M,V,I,B,M,S,B,L,B,B,L,L,D,J,A,N,M,D,K,K,S,M,M,S,M,K,C,J,E,I,E,V,B,S,K,J,J,K,G,B,I,T,E,A,A,K,K,K,J,M,L,J,W,A,C,B,L,A,P,P,T,G,P,B,F,H,L,M,M,D,K,D,V,D,O,S,E,N,E,E,L,A,S,L,S,N,B,T,W,C,A,N,R,C,A,K,K,M,S,T,S,D,S,J,N,C,D,F,P,E,H,P,Z,P,M,G,L,C,P,K,L,K,T,K,A,C,J,S,L,O,P,K,S,A,N,H,A,A,S,R,B,B,S,J,R,D,K,J,J,F,P,R,M,I,L,B,J,V,A,G,S,C,J,R,M,C,A,B,W,D,J,R,S,I,C,J,M,S,L,A,C,B,M,T,E,L,A,V,L,K,J,D,L,E,S,C,K,G,A,P,T,W,K,S,C,S,C,L,K,L,A,M,A,S,A,B,M,J,C,E,V,C,K,A,S,M,V,E,A,C,K,L,Z,M,E,A,T,N,S,C,L,C,M,W,C,J,V,N,B,B,J,M,P,J,K,C,A,S,S,C,O,M,S,R,J,D,S,M,A,P,L,E,A,A,S,B,T,J,K,R,B,T,E,M,J,T,I,E,E,E,L,H,B,D,C,S,G,J,H,C,G,K,C,H,N,M,D,M,V,Q,P,T,K,M,O,M,O,L,T,J,I,G,J,A,R,P,L,N,S,E,C,G,J,M,A,M,N,D,M,L,C,E,S,K,I,E,H,H,S,C,R,K,C,K,S,T,N,L,J,J,K,S,Z,H,S,P,C,R,S,E,H,J,K,L,S,E,G,R,S,U,J,M,J,K,Q,L,K,C,A,E,M,J,K,J,S,M,J,K,J,P,C,M,C,D,R,L,B,A,L,A,A,A,A,C,B,S,T,A,M,J,A,R,M,P,B,R,C,M,O,J,C,A,J,I,M,M,J,N,E,A,S,S,L,M,M,M,A,G,S,R,L,C,E,K,B,M,C,E,C,B,N,K,R,K,B,I,J,D,L,S,C,H,A,C,A,M,S,T,D,S,J,D,A,E,M,K,C,H,R,H,V,K,T,S,S,S,N,S,G,D,D,J,M,M,K,C,S,M,L,R,A,M,P,F,O,L,S,S,R,T,S,L,J,K,S,J,A,M,M,J,E,J,Y,T,S,J,M,H,C,T,C,I,M,V,S,T,S,M,C,D,R,L,S,L,C,V,J,S,J,A,V,C,A,J,S,C,Y,C,W,T,C,V,K,J,S,M,A,J,N,L,L,A,B,T,B,R,I,P,M,T,K,N,L,G,M,C,P,L,M,L,D,E,L,J,C,K,A,P,K,A,S,M,C,K,D,R,C,L,B,K,M,C,T,F,A,K,C,G,S,P,M,S,J,M,M,M,C,M,J,F,M,C,R,B,K,D,C,M,L,G,K,C,L,M,M,S,O,S,R,E,H,E,A,D,O,M,M,S,C,M,A,C,C,M,M,K,A,D,L,M,M,K,C,G,P,A,K,S,J,B,C,J,P,L,H,S,M,J,Z,P,L,N,L,L,K,S,C,L,I,S,T,J,J,C,K,R,M,K,J,L,M,F,A,L,S,D,M,K,B,L,E,J,I,L,I,R,D,S,C,K,P,A,C,M,I,P,R,H,S,B,A,M,N,A,C,E,W,S,M,J,T,S,E,S,A,H,A,B,J,P,S,C,L,L,J,A,C,A,T,A,S,K,R,A,L,A,T,C,T,B,B,N,B,K,C,J,G,E,C,A,E,E,N,C,S,C,D,P,V,D,J,J,L,M,M,S,A,J,K,R,J,J,E,A,J,M,A,L,K,C,A,S,K,L,H,E,M,I,J,M,A,A,G,S,N,L,L,S,C,C,J,P,L,R,S,S,B,P,M,B,D,M,L,E,P,M,K,B,E,B,E,L,R,I,A,K,S,G,H,S,J,H,A,M,A,S,K,B,P,K,E,B,J,N,A,L,M,J,S,E,H,N,T,C,A,S,L,J,D,M,C,H,R,L,C,L,L,M,D,C,T,K,N,C,L,S,K,L,A,P,R,G,M,K,G,N,F,S,C,J,G,L,R,F,A,A,H,S,M,L,T,B,S,E,Z,M,K,A,C,G,C,M,A,V,A,J,S,J,K,A,L,A,K,D,M,A,N,D,J,N,A,L,J,P,J,T,S,L,C,C,B,W,S,L,N,A,D,S,V,S,M,A,D,J,R,A,T,V,I,P,C,N,W,G,E,C,Y,A,M,D,R,B,M,B,M,K,A,R,R,M,M,D,F,C,S,C,D,C,L,A,E,J,A,S,E,J,F,S,A,J,J,E,L,P,C,L,E,L,K,B,L,L,C,E,O,R,J,M,J,P,I,M,R,B,A,N,E,H,T,P,B,S,R,J,T,M,M,C,S,S,R,L,S,C,A,A,J,A,C,I,E,T,J,K,H,I,J,F,S,G,G,K,B,E,G,V,S,E,A,C,K,L,A,A,J,C,R,Z,F,T,S,J,J,J,A,B,M,J,K,L,L,L,K,L,T,R,A,L,S,M,L,D,G,J,T,A,K,L,S,P,A,F,M,B,S,O,T,A,A,V,C,L,C,E,S,B,E,M,N,S,K,M,S,A,L,A,D,K,S,T,F,C,A,M,E,C,P,M,G,A,L,F,B,P,C,G,D,L,G,M,C,C,J,A,H,M,J,G,J,B,D,S,A,L,B,M,E,S,K,A,N,L,S,L,J,C,S,F,S,D,M,G,P,S,B,V,G,T,R,L,H,L,J,F,R,A,A,J,V,A,L,B,C,G,P,J,M,C,R,Y,C,S,D,A,M,J,A,J,C,C,L,D,I,L,J,S,J,N,S,S,T,A,O,L,B,M,J,B,R,L,G,C,M,P,S,H,D,P,A,S,C,J,T,S,K,M,I,V,K,D,C,L,E,L,T,M,E,T,M,L,S,H,S,P,G,J,I,J,C,L,E,M,R,P,H,S,K,S,C,K,C,L,S,E,S,J,S,L,J,C,S,J,A,R,R,L,A,F,M,S,N,M,H,A,C,S,R,L,J,S,E,M,J,J,D,S,T,G,C,L,A,B,K,S,A,A,J,Z,N,C,F,E,A,H,A,H,E,E,H,L,I,S,T,B,B,G,T,M,A,C,H,K,A,D,E,A,V,D,T,K,M,B,A,J,K,J,J,C,A,S,I,T,S,H,R,L,R,J,S,H,K,R,G,A,L,M,R,J,P,L,A,M,Z,I,E,B,K,A,C,M,A,E,S,R,K,C,K,S,M,A,J,E,S,A,H,I,K,D,S,D,A,L,R,D,S,H,B,S,S,S,C,M,C,L,J,N,A,B,C,P,R,M,D,D,M,M,I,A,M,A,C,S,M,R,C,T,J,C,V,K,G,P,P,L,B,A,N,L,S,A,M,F,R,P,K,A,O,R,C,E,J,L,M,M,K,C,C,E,A,C,J,P,B,A,K,K,B,E,T,J,A,N,A,D,A,L,D,U,A,C,F,S,S,C,S,R,A,D,N,J,S,J,T,M,L,M,R,C,S,M,B,Y,D,K,J,J,W,P,J,M,D,B,A,I,A,M,A,A,J,A,A,H,R,B,H,J,T,M,G,N,N,S,G,G,S,H,N,M,I,S,O,H,M,M,K,D,C,J,A,M,S,S,D,E,N,A,L,L,S,G,S,A,A,E,S,L,J,K,A,S,S,L,Y,A,C,H,A,K,K,P,A,S,L,L,G,S,K,C,L,G,C,G,L,L,K,G,J,J,S,L,T,C,K,G,S,C,A,R,M,R,R,N,A,D,E,A,A,K,J,S,R,Y,M,Y,E,E,M,T,S,A,L,E,S,R,J,S,L,W,T,S,D,S,M,J,S,J,A,S,A,P,T,R,J,S,M,A,M,C,S,D,M,P,P,C,A,S,R,N,L,A,K,R,J,C,A,D,S,P,D,A,J,D,F,J,J,S,K,A,C,L,J,J,C,R,B,S,A,A,J,L,B,B,G,C,I,K,K,M,A,B,N,K,R,R,A,B,G,N,A,S,S,J,N,M,G,E,A,J,B,N,M,M,S,A,A,L,S,C,E,K,I,A,A,M,M,J,K,M,A,S,S,J,S,S,A,C,R,H,J,M,B,C,J,B,K,A,K,S,T,P,M,M,S,H,D,M,A,M,A,L,L,T,B,L,V,J,E,J,S,L,J,T,J,M,I,C,C,N,G,T,E,K,K,C,A,S,S,V,B,B,J,B,E,J,N,M,C,J,J,P,J,C,L,Y,M,C,K,G,K,L,J,A,S,C,E,K,K,A,S,D,S,M,J,S,C,C,L,D,A,S,K,V,T,J,T,I,L,S,D,C,P,A,R,E,J,C,E,K,J,P,P,J,J,K,B,J,J,J,B,S,B,K,L,A,L,A,M,S,S,J,S,O,V,C,L,M,T,C,N,K,C,O,L,K,J,J,M,M,K,C,M,A,L,M,A,E,L,M,A,J,R,L,V,S,G,E,A,L,J,R,W,G,C,C,P,M,T,T,L,R,J,W,J,N,P,A,G,H,S,A,J,J,M,E,N,L,T,J,A,E,C,G,G,N,F,C,A,H,A,E,J,K,M,P,H,H,K,M,S,A,M,C,A,T,T,B,E,D,L,H,A,J,M,J,I,M,A,A,S,R,C,L,G,F,A,M,J,M,D,C,L,F,S,A,E,L,B,S,J,A,K,A,D,F,J,K,S,L,M,M,N,E,J,M,L,P,L,Z,N,S,H,V,I,B,C,J,P,A,J,V,P,T,E,M,E,K,S,L,T,E,R,J,S,E,G,E,H,M,L,J,A,C,H,J,J,T,S,A,J,J,C,R,C,L,A,Z,A,N,L,A,T,I,I,K,B,S,M,C,L,S,N,N,E,L,D,A,F,A,B,J,V,D,H,A,T,C,E,F,P,O,D,S,E,J,J,A,F,E,Z,P,C,K,A,S,L,S,E,C,P,R,J,A,C,L,C,N,J,K,M,K,N,K,A,C,C,L,A,Y,M,M,L,J,D,S,A,S,Y,L,S,J,S,V,C,Y,A,A,C,M,N,G,A,H,A,J,J,K,T,J,M,A,K,N,B,E,C,D,S,A,M,A,M,K,T,M,C,L,Y,M,K,C,L,N,M,A,M,S,K,D,S,P,A,P,I,K,R,K,M,K,M,J,C,D,L,A,C,A,S,M,O,M,R,G,D,S,A,B,I,S,C,B,E,S,G,J,M,L,A,A,S,P,T,J,S,J,P,K,K,S,C,C,M,S,R,H,T,A,F,J,C,T,P,J,L,J,L,C,M,R,C,P,Q,A,G,J,S,R,S,E,J,G,P,A,R,N,A,S,M,M,V,C,A,K,D,K,T,O,S,C,L,S,K,J,C,C,R,C,A,C,T,T,P,L,L,V,G,C,A,S,S,J,S,E,K,C,A,M,S,C,C,L,C,A,V,K,M,J,E,E,I,R,S,M,L,J,N,R,A,K,K,S,D,N,A,F,P,A,E,C,D,V,N,N,J,E,B,P,J,L,B,N,K,S,M,A,M,M,C,C,J,A,C,J,E,J,J,R,Z,K,S,J,L,S,E,G,L,S,I,R,M,S,C,L,C,V,C,T,D,D,M,M,J,N,A,B,A,E,J,"
     ]
    },
    {
     "name": "stdout",
     "output_type": "stream",
     "text": [
      "M,L,O,L,P,P,S,K,L,M,S,C,S,P,K,L,D,L,A,K,S,B,H,W,P,R,S,D,S,L,S,J,K,N,K,K,J,V,P,H,L,Z,V,J,M,F,M,A,S,A,J,V,M,L,K,C,M,A,L,E,R,C,A,S,M,J,R,E,R,M,M,N,J,M,M,S,K,J,T,L,M,J,W,T,K,L,Q,S,M,J,E,J,S,A,A,K,A,A,C,A,C,V,W,M,L,S,A,V,S,D,L,V,J,A,A,O,A,N,P,L,C,K,J,M,H,K,J,H,S,M,B,M,A,K,K,D,K,S,C,M,N,D,K,P,A,S,V,E,A,L,N,M,V,L,C,I,S,C,L,C,M,C,P,Z,A,B,M,J,A,G,H,J,B,S,P,S,Y,L,R,E,A,V,S,K,D,J,K,F,K,D,F,M,S,A,M,A,J,O,K,C,A,T,D,A,F,R,B,S,S,T,N,S,J,D,J,A,D,B,S,J,G,J,F,K,T,M,J,D,M,H,K,R,S,J,L,D,K,E,I,K,S,J,B,Z,B,I,M,J,T,D,S,J,J,A,M,M,N,A,E,L,M,L,E,J,D,D,A,J,S,S,A,V,C,C,A,N,G,C,K,A,A,G,K,K,T,F,A,K,F,D,A,H,E,K,S,K,S,G,T,T,K,A,L,B,M,L,D,R,A,T,L,S,S,F,M,A,A,L,A,T,J,E,R,C,E,L,N,G,B,L,B,A,L,N,V,H,J,L,K,S,A,W,R,C,I,R,E,S,S,G,J,J,A,L,J,K,A,J,A,A,A,K,K,S,J,L,V,T,L,M,D,L,S,G,J,J,S,T,L,T,C,N,R,A,B,A,J,J,C,G,A,O,B,V,S,T,J,M,A,J,S,J,M,C,M,S,J,N,J,S,A,A,K,M,J,C,L,C,K,D,G,P,K,L,R,M,S,K,J,K,S,S,A,K,G,J,K,V,E,J,S,L,M,M,L,C,A,A,K,L,S,B,Z,M,E,N,E,K,L,R,J,S,T,K,S,K,B,R,C,A,C,H,J,E,R,P,G,K,T,A,N,C,R,P,E,M,H,M,J,F,L,J,E,R,D,H,B,M,M,A,P,U,K,A,J,S,C,B,S,A,J,R,S,B,I,A,W,N,D,E,C,A,T,V,T,F,K,L,M,K,E,E,H,R,J,J,E,I,B,B,B,T,V,H,G,A,L,T,P,A,K,A,A,M,N,A,J,A,M,N,J,E,K,T,B,F,A,C,R,B,K,R,D,C,A,E,H,E,M,E,L,L,L,M,B,D,J,C,M,E,A,S,G,C,A,C,K,G,A,S,A,D,L,J,T,K,M,J,M,N,K,L,K,R,T,E,T,J,E,L,A,S,C,A,K,E,E,A,A,D,C,K,B,S,G,E,M,L,M,P,C,M,J,K,A,B,R,G,K,K,E,K,M,J,G,J,J,C,N,C,S,R,A,E,O,D,K,C,C,T,L,M,P,S,D,C,R,H,S,S,P,H,P,L,K,Z,J,C,N,A,R,B,J,B,K,M,G,M,B,K,J,D,K,C,B,K,I,B,C,R,J,L,A,K,Z,N,V,M,L,A,T,A,M,B,I,M,A,L,H,B,J,A,F,D,B,H,E,S,C,C,L,S,G,C,P,F,A,G,M,M,J,R,A,R,K,N,S,P,J,L,L,D,D,R,K,S,K,S,K,C,S,R,B,S,K,K,R,S,E,M,M,I,T,M,M,C,K,C,D,L,A,G,C,E,R,B,E,C,S,A,M,L,M,J,F,J,J,K,J,D,N,S,S,N,A,M,R,K,R,C,N,B,M,M,V,L,L,M,K,M,A,E,B,N,L,F,A,L,M,A,C,E,T,R,A,L,C,D,M,T,H,C,M,R,M,R,F,T,L,J,S,M,S,M,C,K,D,B,C,L,L,E,S,R,K,H,K,N,B,V,J,W,E,J,D,A,J,A,M,S,A,T,S,R,L,P,B,S,C,E,M,P,K,K,S,A,B,J,C,J,A,L,S,H,J,E,H,C,C,S,K,T,B,M,R,J,S,J,E,C,C,N,G,K,H,H,E,L,G,S,A,S,M,A,T,C,E,N,K,A,H,M,J,C,K,K,L,R,M,G,S,O,A,M,C,B,N,J,C,C,A,A,M,N,B,J,D,O,H,F,Y,L,K,Y,R,P,G,C,C,C,G,S,N,E,B,R,T,N,A,A,R,B,K,L,A,M,M,L,M,H,M,K,J,E,M,C,D,M,J,R,C,F,R,S,L,K,D,G,D,R,F,A,L,C,S,S,L,A,F,K,E,L,L,K,B,T,M,A,N,V,S,H,G,E,H,R,R,L,F,G,E,M,N,F,C,D,A,K,D,J,A,K,K,H,K,R,M,P,C,C,K,J,T,V,J,L,M,N,N,C,E,C,R,P,C,T,J,H,R,B,I,C,P,E,K,J,S,J,M,S,K,A,G,S,K,R,G,C,A,J,J,H,Y,L,B,R,C,N,V,F,R,N,P,A,S,L,A,A,R,B,V,C,E,N,M,J,K,J,Y,S,S,V,M,C,A,J,E,L,J,K,L,L,A,J,M,B,V,Z,A,S,A,M,S,J,C,R,K,A,F,J,D,M,K,B,R,A,S,R,W,A,E,A,M,K,S,S,N,A,B,I,J,A,S,M,V,J,A,L,S,T,P,S,J,K,G,K,M,L,P,S,H,A,W,N,R,A,K,J,A,A,J,F,M,C,R,L,L,A,L,E,J,L,D,M,D,J,A,B,N,S,B,S,O,J,K,B,E,R,N,E,K,K,A,J,E,A,M,K,N,L,J,N,C,K,J,B,S,I,D,T,J,L,P,C,L,A,V,P,L,K,R,S,C,S,S,M,A,L,B,A,V,G,K,D,C,L,C,H,L,S,C,J,M,A,E,G,D,N,D,D,S,S,C,L,E,B,L,M,T,L,A,K,T,I,T,M,D,B,L,R,M,J,E,D,A,K,M,D,A,Z,E,C,E,D,P,S,H,T,N,J,C,D,H,K,R,D,M,M,A,K,Z,A,A,C,B,B,M,A,J,K,S,M,E,S,M,K,M,G,T,S,K,M,H,N,A,N,M,S,S,R,M,B,C,C,C,J,A,D,T,L,S,M,N,M,J,P,A,J,S,A,L,D,A,L,P,D,L,C,S,N,T,H,S,D,N,S,C,C,I,J,L,R,N,S,L,C,K,L,E,P,E,N,M,S,E,K,D,T,L,I,S,B,L,T,H,E,J,C,K,F,A,P,M,A,M,J,B,A,C,A,H,D,L,S,B,H,R,S,C,V,A,J,K,D,M,M,A,B,R,C,T,I,E,B,E,M,E,S,C,A,L,S,L,G,A,S,E,L,C,A,I,H,D,A,J,T,P,N,F,R,J,V,C,D,J,M,K,E,M,M,A,Z,A,K,B,J,A,M,N,L,C,L,S,N,L,P,M,N,N,R,L,S,Y,D,W,E,E,É,A,K,N,A,A,N,M,A,D,H,J,J,M,G,M,K,P,C,T,D,J,A,N,L,A,M,S,B,G,N,C,J,C,M,C,M,C,V,H,A,K,M,M,N,J,M,M,A,A,M,S,A,E,C,C,B,C,T,I,M,E,M,K,H,D,C,V,J,K,P,P,L,P,S,A,S,K,M,L,V,J,M,G,P,L,J,I,R,L,S,S,A,J,R,K,J,J,M,L,B,S,I,A,K,J,L,G,Y,L,E,B,I,E,F,D,M,A,L,L,S,A,B,J,I,H,R,L,A,K,L,K,C,C,L,L,S,C,D,C,E,K,K,J,T,C,E,K,C,G,L,L,S,P,K,J,R,A,L,C,E,J,L,B,E,A,P,C,E,C,O,L,E,L,S,A,N,N,F,D,S,A,K,K,R,L,T,D,E,S,J,S,S,E,Y,N,Q,B,K,E,S,L,N,M,K,E,C,B,N,R,R,M,E,G,T,T,P,K,K,L,G,A,T,D,C,J,B,J,T,V,A,K,S,J,S,M,T,N,G,E,C,P,S,N,L,A,D,S,O,M,K,T,J,G,J,C,K,P,P,H,Y,K,P,N,M,A,C,N,C,A,C,S,C,C,K,S,H,P,A,K,M,L,C,A,E,A,S,P,W,C,A,S,D,L,D,L,P,A,P,P,C,A,A,P,D,M,B,A,G,N,A,M,M,A,C,S,S,L,K,A,S,J,E,R,E,M,R,L,N,C,I,K,M,N,A,S,W,S,G,J,I,F,O,K,D,M,A,J,P,J,R,A,V,L,K,S,B,A,C,J,S,N,E,K,M,J,J,R,M,I,S,C,M,B,J,A,M,A,T,L,L,M,N,J,C,M,H,H,J,P,W,A,R,J,D,C,T,R,V,R,O,S,F,A,M,V,G,E,L,K,C,N,S,B,M,F,G,R,C,P,I,M,J,S,G,M,N,S,O,A,M,C,I,A,J,T,D,J,H,C,J,D,L,J,A,J,J,E,R,P,R,C,S,J,M,L,A,D,P,K,L,S,C,T,S,S,P,K,H,A,C,B,G,M,N,L,L,A,B,A,R,S,T,M,G,H,K,C,K,B,L,S,L,R,R,J,V,K,C,K,E,K,S,K,K,L,J,F,L,M,M,E,D,V,S,D,V,R,K,A,G,P,J,J,T,K,A,A,J,S,P,L,J,J,A,P,K,B,A,S,M,A,O,D,R,J,S,J,A,C,E,M,B,J,M,G,K,C,E,C,J,D,K,J,A,K,M,M,K,M,A,P,H,S,X,L,I,L,C,S,S,J,B,N,C,D,L,M,M,S,W,C,C,M,C,B,D,A,C,K,B,N,M,S,S,B,M,L,G,J,N,K,R,V,A,J,L,C,H,V,I,A,M,A,C,K,P,J,C,E,D,G,S,O,A,G,S,R,A,N,A,L,D,K,L,S,L,S,C,M,S,C,S,G,B,P,A,E,M,L,L,E,R,R,L,F,L,A,H,A,B,B,L,R,M,A,K,L,H,F,A,F,E,K,J,E,A,A,N,M,N,N,A,S,A,L,G,J,C,C,K,D,A,K,A,S,A,D,S,A,O,J,L,M,N,J,A,M,L,U,P,S,S,P,R,A,E,L,P,A,M,L,G,A,S,K,A,S,S,E,N,V,L,T,B,A,L,R,C,S,J,T,B,C,M,M,B,C,D,J,K,M,K,C,S,C,A,N,S,N,A,S,M,A,H,L,J,M,N,D,R,N,H,H,S,L,M,J,M,M,E,H,T,A,M,E,D,N,S,C,S,I,Z,L,E,K,L,N,V,H,P,P,S,E,M,H,W,E,A,P,J,M,R,S,M,C,L,M,K,Z,R,L,M,L,S,L,C,L,D,B,S,F,K,S,C,B,A,L,J,E,D,L,A,L,L,A,L,A,L,B,L,K,C,Q,J,C,A,D,M,K,R,S,S,M,T,S,S,K,L,D,S,K,E,L,M,T,J,G,V,M,J,T,C,T,M,R,J,J,M,J,O,N,L,D,A,A,S,C,L,Y,J,P,L,J,P,E,J,C,W,B,M,A,A,J,J,J,J,B,K,S,G,E,S,D,C,P,A,N,G,N,G,J,V,T,S,D,K,V,C,S,A,K,C,S,K,E,J,C,M,G,A,E,A,L,J,M,L,B,E,L,V,A,R,Y,A,M,L,N,L,E,G,P,Y,S,L,R,R,G,S,C,C,N,C,A,J,S,J,E,A,K,C,E,A,R,L,C,L,W,D,K,S,C,N,V,E,C,T,A,H,V,S,M,J,D,N,G,A,L,E,C,K,A,J,K,K,E,J,A,R,V,K,A,S,M,L,A,L,P,G,C,B,P,D,T,S,N,K,B,A,B,M,B,E,M,R,R,A,A,S,L,A,A,C,K,T,G,C,B,P,P,R,J,B,L,I,H,A,A,C,C,J,H,R,P,C,C,J,C,S,E,J,C,C,T,S,M,E,L,L,N,J,A,S,M,C,S,N,E,L,E,S,Z,C,V,P,J,A,H,E,A,K,H,K,D,C,A,L,K,G,B,A,A,C,C,A,P,E,A,M,L,E,H,E,C,J,N,C,K,H,L,D,C,J,T,F,K,M,K,C,J,C,C,F,R,R,H,P,K,H,L,A,E,N,M,L,H,G,F,L,S,L,M,L,C,F,R,V,C,C,L,A,B,A,P,K,M,F,K,A,J,S,P,N,P,J,H,J,C,S,J,J,I,J,M,K,E,S,F,A,Z,J,N,R,K,L,J,L,M,S,J,L,T,D,M,E,M,M,C,M,A,E,L,I,E,L,A,G,L,I,M,J,R,M,N,O,K,T,M,K,N,G,P,H,J,H,M,A,T,L,K,N,P,S,K,J,J,J,V,K,J,A,E,K,T,D,E,A,G,S,C,L,R,L,N,D,L,S,I,S,B,F,S,N,I,L,S,J,E,G,G,B,R,I,K,L,T,A,T,A,S,T,M,P,S,E,S,A,A,T,X,J,J,M,F,A,V,S,R,E,F,K,V,C,C,E,I,C,K,L,N,F,M,F,S,N,S,A,A,B,P,A,K,K,H,K,M,T,A,J,K,T,C,N,N,H,R,K,A,T,R,K,M,S,T,A,T,L,M,C,Y,S,S,S,K,M,J,M,M,S,S,P,E,B,M,V,P,N,S,M,T,S,D,J,A,M,M,N,D,D,A,A,J,E,S,B,N,N,K,L,L,D,J,K,R,J,D,V,J,B,J,A,C,P,S,C,K,Y,J,B,R,B,T,M,J,C,M,G,L,D,E,S,A,H,S,P,S,K,S,W,D,S,E,V,C,S,L,A,S,G,M,E,A,E,I,C,S,S,J,T,C,L,A,V,D,I,L,H,E,L,K,R,S,S,Ö,A,M,J,S,M,Y,E,Y,C,C,J,A,A,M,S,O,M,L,L,T,C,J,H,J,C,B,C,K,C,J,L,N,E,S,K,M,A,L,R,C,B,W,H,K,J,S,M,G,B,S,H,K,J,L,A,H,E,V,D,K,D,J,I,S,K,R,S,B,J,K,R,B,N,S,M,S,B,M,D,G,L,I,P,M,L,M,A,D,H,E,L,L,C,L,M,S,T,G,C,Y,T,C,J,S,B,M,H,M,C,H,S,G,K,S,L,C,W,E,D,C,S,E,B,D,M,M,S,E,D,D,S,F,A,M,I,M,A,M,N,A,L,M,K,S,A,J,K,E,I,S,M,L,C,S,N,M,C,R,K,A,Z,G,B,M,L,M,N,R,M,A,E,C,A,K,G,A,H,G,E,T,O,A,S,D,K,S,E,J,M,C,L,M,A,B,S,B,V,D,B,S,M,L,D,E,R,L,F,J,R,B,H,A,A,S,E,L,T,S,E,A,F,H,F,M,H,L,L,E,S,L,D,L,M,C,K,G,S,A,D,I,J,B,M,A,R,J,A,A,S,K,B,H,R,G,P,E,M,M,T,C,V,U,B,J,A,M,K,S,K,T,M,H,J,S,S,A,M,S,G,S,D,H,N,J,K,M,J,C,B,E,A,J,M,E,J,S,A,M,T,K,L,C,A,K,C,V,S,L,E,N,O,C,C,M,R,E,J,D,D,S,K,T,G,E,J,J,M,M,D,J,C,E,D,N,B,I,J,M,L,T,M,S,L,M,S,A,M,S,O,L,B,A,L,R,F,S,K,A,M,B,H,A,X,S,J,F,A,P,D,C,S,S,M,A,C,A,R,M,S,H,B,C,J,I,S,M,M,G,J,E,E,D,E,T,C,M,J,B,J,E,A,R,B,C,I,K,K,B,I,J,N,C,G,K,R,S,J,L,M,L,M,J,T,G,C,R,I,E,A,R,N,L,L,L,D,K,S,S,D,Z,M,J,L,B,R,S,K,R,N,S,I,C,A,R,E,N,H,T,E,J,T,O,B,H,Z,T,F,A,K,J,C,M,R,K,A,L,J,M,J,M,H,K,C,M,E,L,R,A,E,L,F,E,A,A,O,M,A,R,A,J,J,F,J,B,M,G,J,B,P,R,H,D,S,C,G,K,E,C,G,K,H,S,T,I,Z,V,H,N,T,B,A,L,J,E,A,J,P,C,R,E,M,R,T,E,R,C,R,K,M,F,C,E,D,C,A,S,G,K,J,M,C,R,L,B,N,M,H,E,L,S,S,S,D,J,A,J,F,E,N,P,T,M,V,M,K,B,S,N,M,J,D,B,K,F,M,Y,K,M,K,S,C,E,M,G,T,C,V,E,A,J,B,G,A,M,M,J,V,P,I,A,E,F,B,S,M,A,C,M,A,K,B,C,K,R,C,M,L,R,A,B,A,R,J,A,I,S,L,B,J,R,B,M,L,J,C,A,K,R,H,T,J,K,M,A,A,H,E,S,S,T,L,S,S,M,H,N,B,E,T,A,F,T,J,B,L,E,A,L,T,K,J,F,J,E,B,R,B,S,S,B,K,G,S,G,B,P,H,B,T,E,O,C,J,G,G,M,K,A,E,R,V,N,W,J,A,N,S,A,C,E,N,F,V,W,M,M,L,K,R,B,M,A,B,M,A,R,K,K,M,M,R,M,C,V,E,V,T,J,A,K,K,M,C,T,P,M,J,I,J,E,D,S,Q,A,M,C,L,K,J,S,A,N,B,S,S,L,J,N,J,C,A,J,S,K,T,A,W,S,B,A,M,A,K,A,M,P,E,S,T,B,J,A,N,L,B,S,R,M,H,A,G,A,M,M,N,K,M,H,C,E,E,M,A,A,E,L,A,E,S,E,M,M,M,M,J,S,A,R,B,E,L,P,B,V,M,N,L,Y,S,N,J,K,S,S,T,L,L,J,K,E,S,S,R,T,R,K,M,A,S,L,B,C,M,M,E,M,L,J,B,E,A,C,G,R,S,J,N,K,A,A,E,C,A,S,C,H,M,M,S,D,S,C,K,D,K,J,J,S,S,A,A,O,C,L,S,N,A,A,L,N,P,R,K,C,C,R,B,O,A,E,K,K,A,F,J,K,K,M,C,T,M,A,Á,S,M,D,K,E,K,L,S,I,D,V,M,F,A,K,E,M,Z,M,A,A,D,D,S,A,F,A,A,N,G,J,J,T,M,S,L,S,R,K,E,N,K,E,B,G,L,G,L,S,A,A,T,S,T,K,A,I,C,T,F,L,N,D,"
     ]
    },
    {
     "name": "stdout",
     "output_type": "stream",
     "text": [
      "E,M,L,B,C,T,J,H,A,K,T,A,G,S,J,S,H,I,C,H,M,D,M,C,N,S,S,M,L,E,L,S,J,A,F,A,K,D,D,M,A,D,K,F,A,I,B,M,J,S,M,C,V,L,P,J,A,E,L,C,G,S,S,K,S,M,J,V,S,C,M,A,A,L,B,V,M,N,A,A,R,R,R,C,B,A,V,C,G,H,C,A,P,J,T,E,S,A,R,C,A,L,C,E,L,H,S,S,J,P,C,A,C,V,O,K,R,O,A,H,A,K,B,J,P,D,L,L,M,K,J,R,E,M,G,C,M,B,N,L,A,A,P,O,D,A,A,M,H,S,S,K,E,T,M,A,S,M,J,K,T,E,L,A,H,P,K,S,E,C,A,M,N,M,C,E,Y,K,I,L,P,K,Y,R,M,T,L,V,A,E,G,V,H,B,A,K,B,S,M,K,B,L,M,K,B,C,V,S,E,L,J,F,A,T,L,J,D,C,A,R,G,G,T,M,F,I,A,J,L,C,S,O,P,E,C,P,G,C,J,J,R,A,D,C,U,J,P,D,M,D,H,E,D,S,J,D,K,K,A,J,N,M,M,J,K,N,S,C,A,A,C,K,M,J,A,J,J,D,S,M,J,N,S,E,C,G,F,J,L,C,R,C,M,A,P,S,N,T,A,B,P,R,T,I,M,A,A,S,J,O,S,C,Y,T,T,S,C,J,A,A,D,H,L,R,C,D,S,B,M,L,J,A,L,T,J,A,E,J,G,L,K,V,S,L,M,S,C,J,A,J,L,M,T,B,Ö,A,L,K,J,M,T,L,M,T,M,C,K,M,W,M,P,K,J,F,K,B,K,C,K,S,M,R,M,R,D,J,H,T,S,M,M,S,L,F,A,L,M,J,M,J,J,H,A,R,A,A,J,M,A,K,A,D,J,B,R,N,R,M,Z,M,E,P,J,S,R,M,E,S,C,B,H,A,C,A,K,K,C,B,T,A,E,N,C,V,A,H,J,P,M,B,J,L,L,B,L,J,M,E,A,C,Z,M,B,C,M,M,P,R,A,I,E,J,K,A,C,A,A,J,V,M,L,L,H,V,A,R,L,K,Y,A,J,J,D,L,R,A,M,M,P,V,P,C,L,A,N,N,L,P,M,J,T,M,A,L,C,Z,K,H,J,A,A,J,A,R,E,A,T,J,T,S,O,A,A,P,L,E,B,J,Y,A,L,A,T,D,H,O,S,I,E,I,S,M,J,C,M,D,E,G,A,S,M,J,M,M,P,K,F,M,S,A,C,L,M,K,C,C,M,A,M,A,A,K,J,P,A,M,T,T,K,K,C,J,C,E,M,W,N,S,P,S,L,M,A,A,J,M,N,H,G,G,C,E,S,B,J,S,K,S,K,R,S,J,T,G,C,E,C,Y,M,M,O,C,C,A,L,P,T,P,L,C,S,K,H,É,M,C,B,S,B,J,D,C,M,R,L,A,C,A,A,S,K,J,S,P,L,M,R,M,V,A,M,A,K,K,K,S,S,R,K,K,T,B,E,N,M,G,P,S,E,M,R,J,D,A,N,A,J,K,K,J,C,C,L,L,T,R,T,C,L,A,A,H,M,J,C,T,K,L,L,B,L,M,H,H,J,K,H,M,A,P,L,R,M,P,L,A,P,S,S,O,L,G,A,M,L,L,M,M,V,L,S,E,E,L,G,V,H,A,F,L,P,P,J,C,M,A,J,D,S,C,R,A,W,A,K,V,I,L,S,J,A,C,J,L,P,Y,A,M,M,I,C,C,J,T,V,K,F,B,L,A,E,D,Z,L,S,A,A,A,R,A,M,K,R,D,L,H,F,P,L,I,G,L,H,T,E,D,E,S,B,L,M,D,N,B,G,R,D,D,E,D,T,E,S,B,K,S,J,K,A,E,S,Y,C,L,M,M,S,I,S,M,T,R,A,B,N,S,P,J,A,C,P,S,S,S,S,L,F,P,C,M,M,D,"
     ]
    }
   ],
   "source": [
    "imdb_download_report = {'success':[], 'error':[]}\n",
    "\n",
    "for link in dict_imdb_links['female']:\n",
    "    name = link\n",
    "    url = dict_imdb_links['female'][link]\n",
    "    headers = {'User-Agent': 'Mozilla/5.0 (Macintosh; Intel Mac OS X 10_10_1) AppleWebKit/537.36 (KHTML, like Gecko) Chrome/39.0.2171.95 Safari/537.36'}\n",
    "    print(name[0], end=',')\n",
    "    try:        \n",
    "        response = requests.get(url, headers=headers, timeout=6)\n",
    "        if response.status_code == 200:\n",
    "            picture = open('imdb/female/' + name + '.jpg', 'wb')\n",
    "            picture.write(response.content)\n",
    "            imdb_download_report['success'].append(name)\n",
    "            picture.close()\n",
    "        else:\n",
    "            imdb_download_report['error'].append((name, response.status_code))\n",
    "    except requests.exceptions.Timeout:\n",
    "        imdb_download_report['error'].append((name, 'timeout'))\n",
    "    \n",
    "#     # DELETE IF YOU WANT TO DOWNLOAD MORE\n",
    "#     if index == 50:\n",
    "#         break\n",
    "\n",
    "print('success :', len(imdb_download_report['success']))\n",
    "print('errors :', len(imdb_download_report['error']))"
   ]
  },
  {
   "cell_type": "code",
   "execution_count": 18,
   "id": "61da9cab",
   "metadata": {},
   "outputs": [
    {
     "name": "stdout",
     "output_type": "stream",
     "text": [
      "9991\n",
      "errors : 0\n"
     ]
    }
   ],
   "source": [
    "print(len(imdb_download_report['success']))\n",
    "print('errors :', len(imdb_download_report['error']))"
   ]
  },
  {
   "cell_type": "code",
   "execution_count": null,
   "id": "0a3bf24c",
   "metadata": {},
   "outputs": [],
   "source": []
  }
 ],
 "metadata": {
  "kernelspec": {
   "display_name": "Python 3 (ipykernel)",
   "language": "python",
   "name": "python3"
  },
  "language_info": {
   "codemirror_mode": {
    "name": "ipython",
    "version": 3
   },
   "file_extension": ".py",
   "mimetype": "text/x-python",
   "name": "python",
   "nbconvert_exporter": "python",
   "pygments_lexer": "ipython3",
   "version": "3.9.16"
  }
 },
 "nbformat": 4,
 "nbformat_minor": 5
}
