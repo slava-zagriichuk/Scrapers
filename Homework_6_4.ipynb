{
 "cells": [
  {
   "cell_type": "code",
   "execution_count": 1,
   "id": "143b0519",
   "metadata": {},
   "outputs": [],
   "source": [
    "import csv\n",
    "import json\n",
    "import html\n",
    "import time\n",
    "\n",
    "import requests\n",
    "import pandas as pd\n",
    "from bs4 import BeautifulSoup\n",
    "from os import mkdir"
   ]
  },
  {
   "cell_type": "markdown",
   "id": "82c08afa",
   "metadata": {},
   "source": [
    "## 4. IMDB Gender images:\n",
    "\n",
    "Suppose we want to build a data set for a Computer vision task that involves gender images. \n",
    "Your tasks are the following:\n",
    "- Collect 10k male/female images from:\n",
    "https://www.imdb.com\n",
    "- Make sure to render the whole page using selenium and then use BeautifulSoup  to scrape the images\n",
    "- Create a folder for male/female\n",
    "- Each image will be named after the person in the picture\n"
   ]
  },
  {
   "cell_type": "code",
   "execution_count": 26,
   "id": "f174b4b9",
   "metadata": {},
   "outputs": [],
   "source": [
    "def process_page_fullscale_imdb(gender, start=1):\n",
    "    '''return dictionary with list of full scale images: title and link\n",
    "    (processing of one 100 items imdb page)'''\n",
    "    \n",
    "    url = 'https://www.imdb.com/search/name/?gender=' + gender + '&count=100&start=' + str(start)\n",
    "    headers = {'User-Agent': 'Mozilla/5.0 (Macintosh; Intel Mac OS X 10_10_1) AppleWebKit/537.36 (KHTML, like Gecko) Chrome/39.0.2171.95 Safari/537.36'}\n",
    "    try:\n",
    "        response = requests.get(url, headers=headers, timeout=5)\n",
    "    except:       \n",
    "        return {'failed':str(start)}        \n",
    "        \n",
    "    soup_main = BeautifulSoup(response.content, 'html.parser')\n",
    "    \n",
    "    list_of_links = []\n",
    "    for item in soup_main.find_all('div', class_='lister-item mode-detail'):\n",
    "        list_of_links.append(item.find('a')['href'])\n",
    "        \n",
    "    dict_actors = {}\n",
    "    dict_errors = {}\n",
    "    for link in list_of_links:\n",
    "        url = 'https://www.imdb.com' + link\n",
    "        try:\n",
    "            response = requests.get(url, headers=headers, timeout=5)\n",
    "            soup_actor = BeautifulSoup(response.content, 'html.parser')\n",
    "            link_final = soup_actor.find('a', class_='ipc-lockup-overlay ipc-focusable')['href']\n",
    "            try:\n",
    "                url = 'https://www.imdb.com' + link_final\n",
    "                response = requests.get(url, headers=headers, timeout=5)\n",
    "                soup_image = BeautifulSoup(response.content, 'html.parser')\n",
    "                link_image = soup_image.find('div', class_='sc-7c0a9e7c-2 kEDMKk').find('img')['src']\n",
    "                name = soup_image.title.contents[0]\n",
    "                dict_actors[name] = link_image\n",
    "            except:\n",
    "                dict_errors[link] = 'error'\n",
    "        except:\n",
    "            dict_errors[link] = 'error'\n",
    "        \n",
    "        print(name[0] if name else 'error', end=',')\n",
    "    \n",
    "    return {'actors':dict_actors, 'errors':dict_errors}\n",
    "\n",
    "\n",
    "def process_page_thumbs_imdb(gender, start):\n",
    "    '''return dictionary with list of  thumb images title and link and list of errors'''\n",
    "    \n",
    "    url = 'https://www.imdb.com/search/name/?gender=' + gender + '&count=100&start=' + str(start)\n",
    "    headers = {'User-Agent': 'Mozilla/5.0 (Macintosh; Intel Mac OS X 10_10_1) AppleWebKit/537.36 (KHTML, like Gecko) Chrome/39.0.2171.95 Safari/537.36'}\n",
    "    \n",
    "    dict_actors = {}\n",
    "    list_errors = []\n",
    "    try:\n",
    "        response = requests.get(url, headers=headers, timeout=5)\n",
    "        soup = BeautifulSoup(response.content, 'html.parser')        \n",
    "        for item in soup.find_all('div', class_='lister-item-image'):\n",
    "            actor = item.find('img')['alt']\n",
    "            link_thumb = item.find('img')['src']\n",
    "            dict_actors[actor] = link_thumb\n",
    "    except:       \n",
    "        list_errors.append(start)     \n",
    "    \n",
    "    return dict_actors, list_errors\n",
    "    "
   ]
  },
  {
   "cell_type": "code",
   "execution_count": 30,
   "id": "1f24cd86",
   "metadata": {
    "scrolled": true
   },
   "outputs": [
    {
     "name": "stdout",
     "output_type": "stream",
     "text": [
      "male: from 1 to 100 has been processed\n",
      "male: from 101 to 200 has been processed\n",
      "male: from 201 to 300 has been processed\n",
      "male: from 301 to 400 has been processed\n",
      "male: from 401 to 500 has been processed\n",
      "male: from 501 to 600 has been processed\n",
      "male: from 601 to 700 has been processed\n",
      "male: from 701 to 800 has been processed\n",
      "male: from 801 to 900 has been processed\n",
      "male: from 901 to 1000 has been processed\n",
      "male: from 1001 to 1100 has been processed\n",
      "male: from 1101 to 1200 has been processed\n",
      "male: from 1201 to 1300 has been processed\n",
      "male: from 1301 to 1400 has been processed\n",
      "male: from 1401 to 1500 has been processed\n",
      "male: from 1501 to 1600 has been processed\n",
      "male: from 1601 to 1700 has been processed\n",
      "male: from 1701 to 1800 has been processed\n",
      "male: from 1801 to 1900 has been processed\n",
      "male: from 1901 to 2000 has been processed\n",
      "male: from 2001 to 2100 has been processed\n",
      "male: from 2101 to 2200 has been processed\n",
      "male: from 2201 to 2300 has been processed\n",
      "male: from 2301 to 2400 has been processed\n",
      "male: from 2401 to 2500 has been processed\n",
      "male: from 2501 to 2600 has been processed\n",
      "male: from 2601 to 2700 has been processed\n",
      "male: from 2701 to 2800 has been processed\n",
      "male: from 2801 to 2900 has been processed\n",
      "male: from 2901 to 3000 has been processed\n",
      "male: from 3001 to 3100 has been processed\n",
      "male: from 3101 to 3200 has been processed\n",
      "male: from 3201 to 3300 has been processed\n",
      "male: from 3301 to 3400 has been processed\n",
      "male: from 3401 to 3500 has been processed\n",
      "male: from 3501 to 3600 has been processed\n",
      "male: from 3601 to 3700 has been processed\n",
      "male: from 3701 to 3800 has been processed\n",
      "male: from 3801 to 3900 has been processed\n",
      "male: from 3901 to 4000 has been processed\n",
      "male: from 4001 to 4100 has been processed\n",
      "male: from 4101 to 4200 has been processed\n",
      "male: from 4201 to 4300 has been processed\n",
      "male: from 4301 to 4400 has been processed\n",
      "male: from 4401 to 4500 has been processed\n",
      "male: from 4501 to 4600 has been processed\n",
      "male: from 4601 to 4700 has been processed\n",
      "male: from 4701 to 4800 has been processed\n",
      "male: from 4801 to 4900 has been processed\n",
      "male: from 4901 to 5000 has been processed\n",
      "male: from 5001 to 5100 has been processed\n",
      "male: from 5101 to 5200 has been processed\n",
      "male: from 5201 to 5300 has been processed\n",
      "male: from 5301 to 5400 has been processed\n",
      "male: from 5401 to 5500 has been processed\n",
      "male: from 5501 to 5600 has been processed\n",
      "male: from 5601 to 5700 has been processed\n",
      "male: from 5701 to 5800 has been processed\n",
      "male: from 5801 to 5900 has been processed\n",
      "male: from 5901 to 6000 has been processed\n",
      "male: from 6001 to 6100 has been processed\n",
      "male: from 6101 to 6200 has been processed\n",
      "male: from 6201 to 6300 has been processed\n",
      "male: from 6301 to 6400 has been processed\n",
      "male: from 6401 to 6500 has been processed\n",
      "male: from 6501 to 6600 has been processed\n",
      "male: from 6601 to 6700 has been processed\n",
      "male: from 6701 to 6800 has been processed\n",
      "male: from 6801 to 6900 has been processed\n",
      "male: from 6901 to 7000 has been processed\n",
      "male: from 7001 to 7100 has been processed\n",
      "male: from 7101 to 7200 has been processed\n",
      "male: from 7201 to 7300 has been processed\n",
      "male: from 7301 to 7400 has been processed\n",
      "male: from 7401 to 7500 has been processed\n",
      "male: from 7501 to 7600 has been processed\n",
      "male: from 7601 to 7700 has been processed\n",
      "male: from 7701 to 7800 has been processed\n",
      "male: from 7801 to 7900 has been processed\n",
      "male: from 7901 to 8000 has been processed\n",
      "male: from 8001 to 8100 has been processed\n",
      "male: from 8101 to 8200 has been processed\n",
      "male: from 8201 to 8300 has been processed\n",
      "male: from 8301 to 8400 has been processed\n",
      "male: from 8401 to 8500 has been processed\n",
      "male: from 8501 to 8600 has been processed\n",
      "male: from 8601 to 8700 has been processed\n",
      "male: from 8701 to 8800 has been processed\n",
      "male: from 8801 to 8900 has been processed\n",
      "male: from 8901 to 9000 has been processed\n",
      "male: from 9001 to 9100 has been processed\n",
      "male: from 9101 to 9200 has been processed\n",
      "male: from 9201 to 9300 has been processed\n",
      "male: from 9301 to 9400 has been processed\n",
      "male: from 9401 to 9500 has been processed\n",
      "male: from 9501 to 9600 has been processed\n",
      "male: from 9601 to 9700 has been processed\n",
      "male: from 9701 to 9800 has been processed\n",
      "male: from 9801 to 9900 has been processed\n",
      "male: from 9901 to 10000 has been processed\n",
      "female: from 1 to 100 has been processed\n",
      "female: from 101 to 200 has been processed\n",
      "female: from 201 to 300 has been processed\n",
      "female: from 301 to 400 has been processed\n",
      "female: from 401 to 500 has been processed\n",
      "female: from 501 to 600 has been processed\n",
      "female: from 601 to 700 has been processed\n",
      "female: from 701 to 800 has been processed\n",
      "female: from 801 to 900 has been processed\n",
      "female: from 901 to 1000 has been processed\n",
      "female: from 1001 to 1100 has been processed\n",
      "female: from 1101 to 1200 has been processed\n",
      "female: from 1201 to 1300 has been processed\n",
      "female: from 1301 to 1400 has been processed\n",
      "female: from 1401 to 1500 has been processed\n",
      "female: from 1501 to 1600 has been processed\n",
      "female: from 1601 to 1700 has been processed\n",
      "female: from 1701 to 1800 has been processed\n",
      "female: from 1801 to 1900 has been processed\n",
      "female: from 1901 to 2000 has been processed\n",
      "female: from 2001 to 2100 has been processed\n",
      "female: from 2101 to 2200 has been processed\n",
      "female: from 2201 to 2300 has been processed\n",
      "female: from 2301 to 2400 has been processed\n",
      "female: from 2401 to 2500 has been processed\n",
      "female: from 2501 to 2600 has been processed\n",
      "female: from 2601 to 2700 has been processed\n",
      "female: from 2701 to 2800 has been processed\n",
      "female: from 2801 to 2900 has been processed\n",
      "female: from 2901 to 3000 has been processed\n",
      "female: from 3001 to 3100 has been processed\n",
      "female: from 3101 to 3200 has been processed\n",
      "female: from 3201 to 3300 has been processed\n",
      "female: from 3301 to 3400 has been processed\n",
      "female: from 3401 to 3500 has been processed\n",
      "female: from 3501 to 3600 has been processed\n",
      "female: from 3601 to 3700 has been processed\n",
      "female: from 3701 to 3800 has been processed\n",
      "female: from 3801 to 3900 has been processed\n",
      "female: from 3901 to 4000 has been processed\n",
      "female: from 4001 to 4100 has been processed\n",
      "female: from 4101 to 4200 has been processed\n",
      "female: from 4201 to 4300 has been processed\n",
      "female: from 4301 to 4400 has been processed\n",
      "female: from 4401 to 4500 has been processed\n",
      "female: from 4501 to 4600 has been processed\n",
      "female: from 4601 to 4700 has been processed\n",
      "female: from 4701 to 4800 has been processed\n",
      "female: from 4801 to 4900 has been processed\n",
      "female: from 4901 to 5000 has been processed\n",
      "female: from 5001 to 5100 has been processed\n",
      "female: from 5101 to 5200 has been processed\n",
      "female: from 5201 to 5300 has been processed\n",
      "female: from 5301 to 5400 has been processed\n",
      "female: from 5401 to 5500 has been processed\n",
      "female: from 5501 to 5600 has been processed\n",
      "female: from 5601 to 5700 has been processed\n",
      "female: from 5701 to 5800 has been processed\n",
      "female: from 5801 to 5900 has been processed\n",
      "female: from 5901 to 6000 has been processed\n",
      "female: from 6001 to 6100 has been processed\n",
      "female: from 6101 to 6200 has been processed\n",
      "female: from 6201 to 6300 has been processed\n",
      "female: from 6301 to 6400 has been processed\n",
      "female: from 6401 to 6500 has been processed\n",
      "female: from 6501 to 6600 has been processed\n",
      "female: from 6601 to 6700 has been processed\n",
      "female: from 6701 to 6800 has been processed\n",
      "female: from 6801 to 6900 has been processed\n",
      "female: from 6901 to 7000 has been processed\n",
      "female: from 7001 to 7100 has been processed\n",
      "female: from 7101 to 7200 has been processed\n",
      "female: from 7201 to 7300 has been processed\n",
      "female: from 7301 to 7400 has been processed\n",
      "female: from 7401 to 7500 has been processed\n",
      "female: from 7501 to 7600 has been processed\n",
      "female: from 7601 to 7700 has been processed\n",
      "female: from 7701 to 7800 has been processed\n",
      "female: from 7801 to 7900 has been processed\n",
      "female: from 7901 to 8000 has been processed\n",
      "female: from 8001 to 8100 has been processed\n",
      "female: from 8101 to 8200 has been processed\n",
      "female: from 8201 to 8300 has been processed\n",
      "female: from 8301 to 8400 has been processed\n",
      "female: from 8401 to 8500 has been processed\n",
      "female: from 8501 to 8600 has been processed\n",
      "female: from 8601 to 8700 has been processed\n",
      "female: from 8701 to 8800 has been processed\n"
     ]
    },
    {
     "name": "stdout",
     "output_type": "stream",
     "text": [
      "female: from 8801 to 8900 has been processed\n",
      "female: from 8901 to 9000 has been processed\n",
      "female: from 9001 to 9100 has been processed\n",
      "female: from 9101 to 9200 has been processed\n",
      "female: from 9201 to 9300 has been processed\n",
      "female: from 9301 to 9400 has been processed\n",
      "female: from 9401 to 9500 has been processed\n",
      "female: from 9501 to 9600 has been processed\n",
      "female: from 9601 to 9700 has been processed\n",
      "female: from 9701 to 9800 has been processed\n",
      "female: from 9801 to 9900 has been processed\n",
      "female: from 9901 to 10000 has been processed\n"
     ]
    }
   ],
   "source": [
    "# mining of list of thumbs for male and female (10,000 each)\n",
    "\n",
    "dict_imdb_links = {'male':{}, 'female':{}}\n",
    "dict_errors = {'male':[], 'female':[]}\n",
    "\n",
    "for i in range(1, 10001, 100):\n",
    "    actors, errors = process_page_thumbs_imdb(gender='male', start=i)\n",
    "    dict_imdb_links['male'].update(actors)\n",
    "    dict_errors['male'].extend(errors)\n",
    "    print('male: from {} to {} has been processed'.format(i, i + 99))\n",
    "\n",
    "for i in range(1, 10001, 100):\n",
    "    actors, errors = process_page_thumbs_imdb(gender='female', start=i)\n",
    "    dict_imdb_links['female'].update(actors)\n",
    "    dict_errors['female'].extend(errors)\n",
    "    print('female: from {} to {} has been processed'.format(i, i + 99))\n"
   ]
  },
  {
   "cell_type": "code",
   "execution_count": 34,
   "id": "0e9f8688",
   "metadata": {},
   "outputs": [
    {
     "data": {
      "text/plain": [
       "9991"
      ]
     },
     "execution_count": 34,
     "metadata": {},
     "output_type": "execute_result"
    }
   ],
   "source": [
    "len(dict_imdb_links['male'])"
   ]
  },
  {
   "cell_type": "code",
   "execution_count": 32,
   "id": "73738293",
   "metadata": {},
   "outputs": [
    {
     "data": {
      "text/plain": [
       "{'male': [4901, 5101], 'female': []}"
      ]
     },
     "execution_count": 32,
     "metadata": {},
     "output_type": "execute_result"
    }
   ],
   "source": [
    "dict_errors"
   ]
  },
  {
   "cell_type": "code",
   "execution_count": 36,
   "id": "f0df4a08",
   "metadata": {},
   "outputs": [
    {
     "name": "stdout",
     "output_type": "stream",
     "text": [
      "male: from 4901 to 5000 has been processed\n",
      "male: from 5101 to 5200 has been processed\n"
     ]
    }
   ],
   "source": [
    "# data augmentation by reuse of errors\n",
    "\n",
    "for i in dict_errors['male']:\n",
    "    actors, errors = process_page_thumbs_imdb(gender='male', start=i)\n",
    "    dict_imdb_links['male'].update(actors)\n",
    "    dict_errors['male'].extend(errors)\n",
    "    print('male: from {} to {} has been processed'.format(i, i + 99))"
   ]
  },
  {
   "cell_type": "code",
   "execution_count": 39,
   "id": "4569bd48",
   "metadata": {},
   "outputs": [
    {
     "name": "stdout",
     "output_type": "stream",
     "text": [
      "9977\n",
      "9991\n"
     ]
    }
   ],
   "source": [
    "print(len(dict_imdb_links['male']))\n",
    "print(len(dict_imdb_links['female']))\n"
   ]
  },
  {
   "cell_type": "code",
   "execution_count": 40,
   "id": "2503d19f",
   "metadata": {},
   "outputs": [
    {
     "name": "stdout",
     "output_type": "stream",
     "text": [
      "assignment4_IMDB_thumbs.json is written succesfully!\n"
     ]
    }
   ],
   "source": [
    "# Writing the json file:\n",
    "\n",
    "file_json = 'assignment4_IMDB_thumbs.json'\n",
    "with open(file_json, \"w\") as outfile:\n",
    "    json.dump(dict_imdb_links, outfile)\n",
    "    print(file_json, 'is written succesfully!')"
   ]
  },
  {
   "cell_type": "code",
   "execution_count": null,
   "id": "e3053773",
   "metadata": {},
   "outputs": [],
   "source": []
  }
 ],
 "metadata": {
  "kernelspec": {
   "display_name": "Python 3 (ipykernel)",
   "language": "python",
   "name": "python3"
  },
  "language_info": {
   "codemirror_mode": {
    "name": "ipython",
    "version": 3
   },
   "file_extension": ".py",
   "mimetype": "text/x-python",
   "name": "python",
   "nbconvert_exporter": "python",
   "pygments_lexer": "ipython3",
   "version": "3.9.16"
  }
 },
 "nbformat": 4,
 "nbformat_minor": 5
}
